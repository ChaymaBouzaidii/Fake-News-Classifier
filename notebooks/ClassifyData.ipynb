{
 "cells": [
  {
   "cell_type": "code",
   "execution_count": 2,
   "metadata": {
    "colab": {
     "base_uri": "https://localhost:8080/",
     "height": 35
    },
    "colab_type": "code",
    "executionInfo": {
     "elapsed": 1031,
     "status": "ok",
     "timestamp": 1576503699182,
     "user": {
      "displayName": "Chayma Bouzaidi",
      "photoUrl": "",
      "userId": "01302878369314211342"
     },
     "user_tz": -60
    },
    "id": "CR6LH_6m7cBf",
    "outputId": "1754fe6e-c4b8-4fe9-c9fe-8dfaebf94131"
   },
   "outputs": [
    {
     "ename": "ModuleNotFoundError",
     "evalue": "No module named 'google'",
     "output_type": "error",
     "traceback": [
      "\u001b[0;31m---------------------------------------------------------------------------\u001b[0m",
      "\u001b[0;31mModuleNotFoundError\u001b[0m                       Traceback (most recent call last)",
      "\u001b[0;32m<ipython-input-2-d5df0069828e>\u001b[0m in \u001b[0;36m<module>\u001b[0;34m\u001b[0m\n\u001b[0;32m----> 1\u001b[0;31m \u001b[0;32mfrom\u001b[0m \u001b[0mgoogle\u001b[0m\u001b[0;34m.\u001b[0m\u001b[0mcolab\u001b[0m \u001b[0;32mimport\u001b[0m \u001b[0mdrive\u001b[0m\u001b[0;34m\u001b[0m\u001b[0;34m\u001b[0m\u001b[0m\n\u001b[0m\u001b[1;32m      2\u001b[0m \u001b[0mdrive\u001b[0m\u001b[0;34m.\u001b[0m\u001b[0mmount\u001b[0m\u001b[0;34m(\u001b[0m\u001b[0;34m'/content/drive'\u001b[0m\u001b[0;34m)\u001b[0m\u001b[0;34m\u001b[0m\u001b[0;34m\u001b[0m\u001b[0m\n",
      "\u001b[0;31mModuleNotFoundError\u001b[0m: No module named 'google'"
     ]
    }
   ],
   "source": [
    "from google.colab import drive\n",
    "drive.mount('/content/drive')"
   ]
  },
  {
   "cell_type": "code",
   "execution_count": null,
   "metadata": {
    "colab": {},
    "colab_type": "code",
    "id": "JByBlVmA70cM"
   },
   "outputs": [],
   "source": [
    "import os\n",
    "os.chdir('/content/drive/My Drive')"
   ]
  },
  {
   "cell_type": "code",
   "execution_count": 7,
   "metadata": {
    "colab": {
     "base_uri": "https://localhost:8080/",
     "height": 90
    },
    "colab_type": "code",
    "executionInfo": {
     "elapsed": 1151,
     "status": "ok",
     "timestamp": 1576503702756,
     "user": {
      "displayName": "Chayma Bouzaidi",
      "photoUrl": "",
      "userId": "01302878369314211342"
     },
     "user_tz": -60
    },
    "id": "PmUJTit863OQ",
    "outputId": "614f47bc-3b40-4ea2-e7e8-850466c6971f"
   },
   "outputs": [
    {
     "name": "stdout",
     "output_type": "stream",
     "text": [
      "[nltk_data] Downloading package averaged_perceptron_tagger to\n",
      "[nltk_data]     /root/nltk_data...\n",
      "[nltk_data]   Package averaged_perceptron_tagger is already up-to-\n",
      "[nltk_data]       date!\n"
     ]
    }
   ],
   "source": [
    "## This file has all imports and helper functions used throughout the notebook\n",
    "%run python_helper.py\n",
    "%matplotlib inline "
   ]
  },
  {
   "cell_type": "code",
   "execution_count": null,
   "metadata": {
    "colab": {},
    "colab_type": "code",
    "id": "bFIf99hu63Oi"
   },
   "outputs": [],
   "source": [
    "input_str = open(\"fake_or_real_news_training.csv\")\n",
    "\n",
    "# Remove all new lines\n",
    "noNewLines = re.sub(\"\\n\", \"\", input_str.read())\n",
    "  \n",
    "# Re-add new line at end of each row\n",
    "noNewLines = re.sub(\"X1,X2\", \"X1,X2\\n\", noNewLines)\n",
    "noNewLines = re.sub(\",FAKE[,]+\", \",FAKE,,\\n\", noNewLines)\n",
    "noNewLines = re.sub(\",REAL[,]+\", \",REAL,,\\n\", noNewLines)\n",
    "\n",
    "\n",
    "# Replace any commas between two quotes with |\n",
    "lines = noNewLines.split('\\n')\n",
    "\n",
    "def removeComma(g):\n",
    "      t = g.groups()\n",
    "      t = [t[0], t[1].replace(',', ' |'), t[2], t[3]]\n",
    "      return \"\".join(t)\n",
    "\n",
    "betweenQuotes = lambda line: re.sub(r'(.*,\")(.*)(\",)(.*)', lambda x: removeComma(x), line)\n",
    "\n",
    "secondCol = lambda line: re.sub(r'^([0-9]+,)(.*,.*)(,\\\")(.*)$', lambda x: removeComma(x), line, 1)\n",
    "\n",
    "\n",
    "lines = [betweenQuotes(l) for l in lines]\n",
    "lines = [secondCol(l) for l in lines]\n",
    "\n",
    "finalString = '\\n'.join(lines)"
   ]
  },
  {
   "cell_type": "code",
   "execution_count": null,
   "metadata": {
    "colab": {},
    "colab_type": "code",
    "id": "qr6JXGkx63Or"
   },
   "outputs": [],
   "source": [
    "file = open('fake_or_real_news_training_CLEANED.csv', 'w')\n",
    "file.write(finalString)\n",
    "file.close()"
   ]
  },
  {
   "cell_type": "code",
   "execution_count": null,
   "metadata": {
    "colab": {},
    "colab_type": "code",
    "id": "Le5wb7Gp63Ou"
   },
   "outputs": [],
   "source": [
    "train = pd.read_csv(\"fake_or_real_news_training_CLEANED.csv\")\n",
    "test = pd.read_csv(\"fake_or_real_news_test.csv\")"
   ]
  },
  {
   "cell_type": "code",
   "execution_count": 11,
   "metadata": {
    "colab": {
     "base_uri": "https://localhost:8080/",
     "height": 35
    },
    "colab_type": "code",
    "executionInfo": {
     "elapsed": 1478,
     "status": "ok",
     "timestamp": 1576503714214,
     "user": {
      "displayName": "Chayma Bouzaidi",
      "photoUrl": "",
      "userId": "01302878369314211342"
     },
     "user_tz": -60
    },
    "id": "lYa1Xm6063Ox",
    "outputId": "6e10e174-57c1-429d-e3ac-a0412eda9f0d"
   },
   "outputs": [
    {
     "data": {
      "text/plain": [
       "3997"
      ]
     },
     "execution_count": 11,
     "metadata": {
      "tags": []
     },
     "output_type": "execute_result"
    }
   ],
   "source": [
    "len(train)"
   ]
  },
  {
   "cell_type": "code",
   "execution_count": 12,
   "metadata": {
    "colab": {
     "base_uri": "https://localhost:8080/",
     "height": 35
    },
    "colab_type": "code",
    "executionInfo": {
     "elapsed": 1121,
     "status": "ok",
     "timestamp": 1576503716170,
     "user": {
      "displayName": "Chayma Bouzaidi",
      "photoUrl": "",
      "userId": "01302878369314211342"
     },
     "user_tz": -60
    },
    "id": "Q8G9orjY63O2",
    "outputId": "d50385c0-94b6-497a-f9f0-56fa22369546"
   },
   "outputs": [
    {
     "data": {
      "text/plain": [
       "2321"
      ]
     },
     "execution_count": 12,
     "metadata": {
      "tags": []
     },
     "output_type": "execute_result"
    }
   ],
   "source": [
    "len(test)"
   ]
  },
  {
   "cell_type": "code",
   "execution_count": 13,
   "metadata": {
    "colab": {
     "base_uri": "https://localhost:8080/",
     "height": 198
    },
    "colab_type": "code",
    "executionInfo": {
     "elapsed": 1099,
     "status": "ok",
     "timestamp": 1576503718929,
     "user": {
      "displayName": "Chayma Bouzaidi",
      "photoUrl": "",
      "userId": "01302878369314211342"
     },
     "user_tz": -60
    },
    "id": "EUaO041L63O5",
    "outputId": "2607fd5e-821e-4c49-e9fa-8c160fcda48e"
   },
   "outputs": [
    {
     "data": {
      "text/html": [
       "<div>\n",
       "<style scoped>\n",
       "    .dataframe tbody tr th:only-of-type {\n",
       "        vertical-align: middle;\n",
       "    }\n",
       "\n",
       "    .dataframe tbody tr th {\n",
       "        vertical-align: top;\n",
       "    }\n",
       "\n",
       "    .dataframe thead th {\n",
       "        text-align: right;\n",
       "    }\n",
       "</style>\n",
       "<table border=\"1\" class=\"dataframe\">\n",
       "  <thead>\n",
       "    <tr style=\"text-align: right;\">\n",
       "      <th></th>\n",
       "      <th>ID</th>\n",
       "      <th>title</th>\n",
       "      <th>text</th>\n",
       "      <th>label</th>\n",
       "      <th>X1</th>\n",
       "      <th>X2</th>\n",
       "    </tr>\n",
       "  </thead>\n",
       "  <tbody>\n",
       "    <tr>\n",
       "      <th>0</th>\n",
       "      <td>8476</td>\n",
       "      <td>You Can Smell Hillary’s Fear</td>\n",
       "      <td>Daniel Greenfield | a Shillman Journalism Fell...</td>\n",
       "      <td>FAKE</td>\n",
       "      <td>NaN</td>\n",
       "      <td>NaN</td>\n",
       "    </tr>\n",
       "    <tr>\n",
       "      <th>1</th>\n",
       "      <td>10294</td>\n",
       "      <td>Watch The Exact Moment Paul Ryan Committed Pol...</td>\n",
       "      <td>Google Pinterest Digg Linkedin Reddit Stumbleu...</td>\n",
       "      <td>FAKE</td>\n",
       "      <td>NaN</td>\n",
       "      <td>NaN</td>\n",
       "    </tr>\n",
       "    <tr>\n",
       "      <th>2</th>\n",
       "      <td>3608</td>\n",
       "      <td>Kerry to go to Paris in gesture of sympathy</td>\n",
       "      <td>U.S. Secretary of State John F. Kerry said Mon...</td>\n",
       "      <td>REAL</td>\n",
       "      <td>NaN</td>\n",
       "      <td>NaN</td>\n",
       "    </tr>\n",
       "    <tr>\n",
       "      <th>3</th>\n",
       "      <td>10142</td>\n",
       "      <td>Bernie supporters on Twitter erupt in anger ag...</td>\n",
       "      <td>— Kaydee King (@KaydeeKing) November 9 | 2016 ...</td>\n",
       "      <td>FAKE</td>\n",
       "      <td>NaN</td>\n",
       "      <td>NaN</td>\n",
       "    </tr>\n",
       "    <tr>\n",
       "      <th>4</th>\n",
       "      <td>875</td>\n",
       "      <td>The Battle of New York: Why This Primary Matte...</td>\n",
       "      <td>Cruz promised his supporters. \"\"We're beating...</td>\n",
       "      <td>REAL</td>\n",
       "      <td>NaN</td>\n",
       "      <td>NaN</td>\n",
       "    </tr>\n",
       "  </tbody>\n",
       "</table>\n",
       "</div>"
      ],
      "text/plain": [
       "      ID                                              title  ...  X1  X2\n",
       "0   8476                       You Can Smell Hillary’s Fear  ... NaN NaN\n",
       "1  10294  Watch The Exact Moment Paul Ryan Committed Pol...  ... NaN NaN\n",
       "2   3608        Kerry to go to Paris in gesture of sympathy  ... NaN NaN\n",
       "3  10142  Bernie supporters on Twitter erupt in anger ag...  ... NaN NaN\n",
       "4    875  The Battle of New York: Why This Primary Matte...  ... NaN NaN\n",
       "\n",
       "[5 rows x 6 columns]"
      ]
     },
     "execution_count": 13,
     "metadata": {
      "tags": []
     },
     "output_type": "execute_result"
    }
   ],
   "source": [
    "train.head()"
   ]
  },
  {
   "cell_type": "code",
   "execution_count": null,
   "metadata": {
    "colab": {},
    "colab_type": "code",
    "id": "GdkGWuBS63O9"
   },
   "outputs": [],
   "source": [
    "train = train.drop(['X1', 'X2'], axis=1)"
   ]
  },
  {
   "cell_type": "code",
   "execution_count": 1,
   "metadata": {
    "colab": {
     "base_uri": "https://localhost:8080/",
     "height": 295
    },
    "colab_type": "code",
    "executionInfo": {
     "elapsed": 1223,
     "status": "ok",
     "timestamp": 1576503724776,
     "user": {
      "displayName": "Chayma Bouzaidi",
      "photoUrl": "",
      "userId": "01302878369314211342"
     },
     "user_tz": -60
    },
    "id": "OjpQNyPe63PC",
    "outputId": "40a90ee4-5e97-4133-9228-e4f6a25965bc"
   },
   "outputs": [
    {
     "ename": "NameError",
     "evalue": "name 'sns' is not defined",
     "output_type": "error",
     "traceback": [
      "\u001b[0;31m---------------------------------------------------------------------------\u001b[0m",
      "\u001b[0;31mNameError\u001b[0m                                 Traceback (most recent call last)",
      "\u001b[0;32m<ipython-input-1-a7d2fdbf8260>\u001b[0m in \u001b[0;36m<module>\u001b[0;34m\u001b[0m\n\u001b[1;32m      1\u001b[0m \u001b[0;32mfrom\u001b[0m \u001b[0mcollections\u001b[0m \u001b[0;32mimport\u001b[0m \u001b[0mCounter\u001b[0m\u001b[0;34m\u001b[0m\u001b[0;34m\u001b[0m\u001b[0m\n\u001b[0;32m----> 2\u001b[0;31m \u001b[0max\u001b[0m \u001b[0;34m=\u001b[0m \u001b[0msns\u001b[0m\u001b[0;34m.\u001b[0m\u001b[0mcountplot\u001b[0m\u001b[0;34m(\u001b[0m\u001b[0mtrain\u001b[0m\u001b[0;34m.\u001b[0m\u001b[0mlabel\u001b[0m\u001b[0;34m,\u001b[0m \u001b[0morder\u001b[0m\u001b[0;34m=\u001b[0m\u001b[0;34m[\u001b[0m\u001b[0mx\u001b[0m \u001b[0;32mfor\u001b[0m \u001b[0mx\u001b[0m\u001b[0;34m,\u001b[0m \u001b[0mcount\u001b[0m \u001b[0;32min\u001b[0m \u001b[0msorted\u001b[0m\u001b[0;34m(\u001b[0m\u001b[0mCounter\u001b[0m\u001b[0;34m(\u001b[0m\u001b[0mtrain\u001b[0m\u001b[0;34m.\u001b[0m\u001b[0mlabel\u001b[0m\u001b[0;34m)\u001b[0m\u001b[0;34m.\u001b[0m\u001b[0mitems\u001b[0m\u001b[0;34m(\u001b[0m\u001b[0;34m)\u001b[0m\u001b[0;34m,\u001b[0m \u001b[0mkey\u001b[0m\u001b[0;34m=\u001b[0m\u001b[0;32mlambda\u001b[0m \u001b[0mx\u001b[0m\u001b[0;34m:\u001b[0m \u001b[0;34m-\u001b[0m\u001b[0mx\u001b[0m\u001b[0;34m[\u001b[0m\u001b[0;36m1\u001b[0m\u001b[0;34m]\u001b[0m\u001b[0;34m)\u001b[0m\u001b[0;34m]\u001b[0m\u001b[0;34m)\u001b[0m\u001b[0;34m\u001b[0m\u001b[0;34m\u001b[0m\u001b[0m\n\u001b[0m\u001b[1;32m      3\u001b[0m \u001b[0;34m\u001b[0m\u001b[0m\n\u001b[1;32m      4\u001b[0m \u001b[0;34m\u001b[0m\u001b[0m\n\u001b[1;32m      5\u001b[0m \u001b[0;32mfor\u001b[0m \u001b[0mp\u001b[0m \u001b[0;32min\u001b[0m \u001b[0max\u001b[0m\u001b[0;34m.\u001b[0m\u001b[0mpatches\u001b[0m\u001b[0;34m:\u001b[0m\u001b[0;34m\u001b[0m\u001b[0;34m\u001b[0m\u001b[0m\n",
      "\u001b[0;31mNameError\u001b[0m: name 'sns' is not defined"
     ]
    }
   ],
   "source": [
    "from collections import Counter\n",
    "ax = sns.countplot(train.label, order=[x for x, count in sorted(Counter(train.label).items(), key=lambda x: -x[1])])\n",
    "\n",
    "\n",
    "for p in ax.patches:\n",
    "    height = p.get_height()\n",
    "    ax.text(p.get_x()+p.get_width()/2.,\n",
    "            height + 3,\n",
    "            '{:1.2f}%'.format(height/len(train)*100),\n",
    "            ha=\"center\") \n",
    "ax.set_title(\"Train dataset target\")\n",
    "show()"
   ]
  },
  {
   "cell_type": "code",
   "execution_count": 16,
   "metadata": {
    "colab": {
     "base_uri": "https://localhost:8080/",
     "height": 198
    },
    "colab_type": "code",
    "executionInfo": {
     "elapsed": 1033,
     "status": "ok",
     "timestamp": 1576503727336,
     "user": {
      "displayName": "Chayma Bouzaidi",
      "photoUrl": "",
      "userId": "01302878369314211342"
     },
     "user_tz": -60
    },
    "id": "Cwdnhp-j63PL",
    "outputId": "787f1cb3-27c1-4cfd-afb5-3934f655b8a2"
   },
   "outputs": [
    {
     "data": {
      "text/html": [
       "<div>\n",
       "<style scoped>\n",
       "    .dataframe tbody tr th:only-of-type {\n",
       "        vertical-align: middle;\n",
       "    }\n",
       "\n",
       "    .dataframe tbody tr th {\n",
       "        vertical-align: top;\n",
       "    }\n",
       "\n",
       "    .dataframe thead th {\n",
       "        text-align: right;\n",
       "    }\n",
       "</style>\n",
       "<table border=\"1\" class=\"dataframe\">\n",
       "  <thead>\n",
       "    <tr style=\"text-align: right;\">\n",
       "      <th></th>\n",
       "      <th>ID</th>\n",
       "      <th>title</th>\n",
       "      <th>text</th>\n",
       "    </tr>\n",
       "  </thead>\n",
       "  <tbody>\n",
       "    <tr>\n",
       "      <th>0</th>\n",
       "      <td>10498</td>\n",
       "      <td>September New Homes Sales Rise——-Back To 1992 ...</td>\n",
       "      <td>September New Homes Sales Rise Back To 1992 Le...</td>\n",
       "    </tr>\n",
       "    <tr>\n",
       "      <th>1</th>\n",
       "      <td>2439</td>\n",
       "      <td>Why The Obamacare Doomsday Cult Can't Admit It...</td>\n",
       "      <td>But when Congress debated and passed the Patie...</td>\n",
       "    </tr>\n",
       "    <tr>\n",
       "      <th>2</th>\n",
       "      <td>864</td>\n",
       "      <td>Sanders, Cruz resist pressure after NY losses,...</td>\n",
       "      <td>The Bernie Sanders and Ted Cruz campaigns vowe...</td>\n",
       "    </tr>\n",
       "    <tr>\n",
       "      <th>3</th>\n",
       "      <td>4128</td>\n",
       "      <td>Surviving escaped prisoner likely fatigued and...</td>\n",
       "      <td>Police searching for the second of two escaped...</td>\n",
       "    </tr>\n",
       "    <tr>\n",
       "      <th>4</th>\n",
       "      <td>662</td>\n",
       "      <td>Clinton and Sanders neck and neck in Californi...</td>\n",
       "      <td>No matter who wins California's 475 delegates ...</td>\n",
       "    </tr>\n",
       "  </tbody>\n",
       "</table>\n",
       "</div>"
      ],
      "text/plain": [
       "      ID  ...                                               text\n",
       "0  10498  ...  September New Homes Sales Rise Back To 1992 Le...\n",
       "1   2439  ...  But when Congress debated and passed the Patie...\n",
       "2    864  ...  The Bernie Sanders and Ted Cruz campaigns vowe...\n",
       "3   4128  ...  Police searching for the second of two escaped...\n",
       "4    662  ...  No matter who wins California's 475 delegates ...\n",
       "\n",
       "[5 rows x 3 columns]"
      ]
     },
     "execution_count": 16,
     "metadata": {
      "tags": []
     },
     "output_type": "execute_result"
    }
   ],
   "source": [
    "test.head()"
   ]
  },
  {
   "cell_type": "code",
   "execution_count": null,
   "metadata": {
    "colab": {},
    "colab_type": "code",
    "id": "8Y4kZObR63PO"
   },
   "outputs": [],
   "source": [
    "test['label'] = None  # empty label for test\n",
    "\n",
    "df = pd.concat([train, test])"
   ]
  },
  {
   "cell_type": "code",
   "execution_count": 18,
   "metadata": {
    "colab": {
     "base_uri": "https://localhost:8080/",
     "height": 35
    },
    "colab_type": "code",
    "executionInfo": {
     "elapsed": 733,
     "status": "ok",
     "timestamp": 1576503732634,
     "user": {
      "displayName": "Chayma Bouzaidi",
      "photoUrl": "",
      "userId": "01302878369314211342"
     },
     "user_tz": -60
    },
    "id": "wyFzv7yO63PR",
    "outputId": "8a1c7c27-be6b-4f11-d62f-7cdf3d7c41fe"
   },
   "outputs": [
    {
     "data": {
      "text/plain": [
       "6318"
      ]
     },
     "execution_count": 18,
     "metadata": {
      "tags": []
     },
     "output_type": "execute_result"
    }
   ],
   "source": [
    "len(df)"
   ]
  },
  {
   "cell_type": "code",
   "execution_count": 19,
   "metadata": {
    "colab": {
     "base_uri": "https://localhost:8080/",
     "height": 198
    },
    "colab_type": "code",
    "executionInfo": {
     "elapsed": 573,
     "status": "ok",
     "timestamp": 1576503733966,
     "user": {
      "displayName": "Chayma Bouzaidi",
      "photoUrl": "",
      "userId": "01302878369314211342"
     },
     "user_tz": -60
    },
    "id": "k9MawAtB63PV",
    "outputId": "9d967f4a-9139-4bcf-dfd9-b59c097986e8"
   },
   "outputs": [
    {
     "data": {
      "text/html": [
       "<div>\n",
       "<style scoped>\n",
       "    .dataframe tbody tr th:only-of-type {\n",
       "        vertical-align: middle;\n",
       "    }\n",
       "\n",
       "    .dataframe tbody tr th {\n",
       "        vertical-align: top;\n",
       "    }\n",
       "\n",
       "    .dataframe thead th {\n",
       "        text-align: right;\n",
       "    }\n",
       "</style>\n",
       "<table border=\"1\" class=\"dataframe\">\n",
       "  <thead>\n",
       "    <tr style=\"text-align: right;\">\n",
       "      <th></th>\n",
       "      <th>ID</th>\n",
       "      <th>title</th>\n",
       "      <th>text</th>\n",
       "      <th>label</th>\n",
       "    </tr>\n",
       "  </thead>\n",
       "  <tbody>\n",
       "    <tr>\n",
       "      <th>2316</th>\n",
       "      <td>4490</td>\n",
       "      <td>State Department says it can't find emails fro...</td>\n",
       "      <td>The State Department told the Republican Natio...</td>\n",
       "      <td>None</td>\n",
       "    </tr>\n",
       "    <tr>\n",
       "      <th>2317</th>\n",
       "      <td>8062</td>\n",
       "      <td>The ‘P’ in PBS Should Stand for ‘Plutocratic’ ...</td>\n",
       "      <td>The ‘P’ in PBS Should Stand for ‘Plutocratic’ ...</td>\n",
       "      <td>None</td>\n",
       "    </tr>\n",
       "    <tr>\n",
       "      <th>2318</th>\n",
       "      <td>8622</td>\n",
       "      <td>Anti-Trump Protesters Are Tools of the Oligarc...</td>\n",
       "      <td>Anti-Trump Protesters Are Tools of the Oligar...</td>\n",
       "      <td>None</td>\n",
       "    </tr>\n",
       "    <tr>\n",
       "      <th>2319</th>\n",
       "      <td>4021</td>\n",
       "      <td>In Ethiopia, Obama seeks progress on peace, se...</td>\n",
       "      <td>ADDIS ABABA, Ethiopia —President Obama convene...</td>\n",
       "      <td>None</td>\n",
       "    </tr>\n",
       "    <tr>\n",
       "      <th>2320</th>\n",
       "      <td>4330</td>\n",
       "      <td>Jeb Bush Is Suddenly Attacking Trump. Here's W...</td>\n",
       "      <td>Jeb Bush Is Suddenly Attacking Trump. Here's W...</td>\n",
       "      <td>None</td>\n",
       "    </tr>\n",
       "  </tbody>\n",
       "</table>\n",
       "</div>"
      ],
      "text/plain": [
       "        ID  ... label\n",
       "2316  4490  ...  None\n",
       "2317  8062  ...  None\n",
       "2318  8622  ...  None\n",
       "2319  4021  ...  None\n",
       "2320  4330  ...  None\n",
       "\n",
       "[5 rows x 4 columns]"
      ]
     },
     "execution_count": 19,
     "metadata": {
      "tags": []
     },
     "output_type": "execute_result"
    }
   ],
   "source": [
    "df.tail()"
   ]
  },
  {
   "cell_type": "code",
   "execution_count": 20,
   "metadata": {
    "colab": {
     "base_uri": "https://localhost:8080/",
     "height": 198
    },
    "colab_type": "code",
    "executionInfo": {
     "elapsed": 1291,
     "status": "ok",
     "timestamp": 1576503735970,
     "user": {
      "displayName": "Chayma Bouzaidi",
      "photoUrl": "",
      "userId": "01302878369314211342"
     },
     "user_tz": -60
    },
    "id": "XCGlsva963PZ",
    "outputId": "c0b64179-3f57-48d7-b3ca-b02636ac95fe"
   },
   "outputs": [
    {
     "data": {
      "text/html": [
       "<div>\n",
       "<style scoped>\n",
       "    .dataframe tbody tr th:only-of-type {\n",
       "        vertical-align: middle;\n",
       "    }\n",
       "\n",
       "    .dataframe tbody tr th {\n",
       "        vertical-align: top;\n",
       "    }\n",
       "\n",
       "    .dataframe thead th {\n",
       "        text-align: right;\n",
       "    }\n",
       "</style>\n",
       "<table border=\"1\" class=\"dataframe\">\n",
       "  <thead>\n",
       "    <tr style=\"text-align: right;\">\n",
       "      <th></th>\n",
       "      <th>ID</th>\n",
       "      <th>title</th>\n",
       "      <th>text</th>\n",
       "      <th>label</th>\n",
       "      <th>title_and_text</th>\n",
       "    </tr>\n",
       "  </thead>\n",
       "  <tbody>\n",
       "    <tr>\n",
       "      <th>2316</th>\n",
       "      <td>4490</td>\n",
       "      <td>State Department says it can't find emails fro...</td>\n",
       "      <td>The State Department told the Republican Natio...</td>\n",
       "      <td>None</td>\n",
       "      <td>State Department says it can't find emails fro...</td>\n",
       "    </tr>\n",
       "    <tr>\n",
       "      <th>2317</th>\n",
       "      <td>8062</td>\n",
       "      <td>The ‘P’ in PBS Should Stand for ‘Plutocratic’ ...</td>\n",
       "      <td>The ‘P’ in PBS Should Stand for ‘Plutocratic’ ...</td>\n",
       "      <td>None</td>\n",
       "      <td>The ‘P’ in PBS Should Stand for ‘Plutocratic’ ...</td>\n",
       "    </tr>\n",
       "    <tr>\n",
       "      <th>2318</th>\n",
       "      <td>8622</td>\n",
       "      <td>Anti-Trump Protesters Are Tools of the Oligarc...</td>\n",
       "      <td>Anti-Trump Protesters Are Tools of the Oligar...</td>\n",
       "      <td>None</td>\n",
       "      <td>Anti-Trump Protesters Are Tools of the Oligarc...</td>\n",
       "    </tr>\n",
       "    <tr>\n",
       "      <th>2319</th>\n",
       "      <td>4021</td>\n",
       "      <td>In Ethiopia, Obama seeks progress on peace, se...</td>\n",
       "      <td>ADDIS ABABA, Ethiopia —President Obama convene...</td>\n",
       "      <td>None</td>\n",
       "      <td>In Ethiopia, Obama seeks progress on peace, se...</td>\n",
       "    </tr>\n",
       "    <tr>\n",
       "      <th>2320</th>\n",
       "      <td>4330</td>\n",
       "      <td>Jeb Bush Is Suddenly Attacking Trump. Here's W...</td>\n",
       "      <td>Jeb Bush Is Suddenly Attacking Trump. Here's W...</td>\n",
       "      <td>None</td>\n",
       "      <td>Jeb Bush Is Suddenly Attacking Trump. Here's W...</td>\n",
       "    </tr>\n",
       "  </tbody>\n",
       "</table>\n",
       "</div>"
      ],
      "text/plain": [
       "        ID  ...                                     title_and_text\n",
       "2316  4490  ...  State Department says it can't find emails fro...\n",
       "2317  8062  ...  The ‘P’ in PBS Should Stand for ‘Plutocratic’ ...\n",
       "2318  8622  ...  Anti-Trump Protesters Are Tools of the Oligarc...\n",
       "2319  4021  ...  In Ethiopia, Obama seeks progress on peace, se...\n",
       "2320  4330  ...  Jeb Bush Is Suddenly Attacking Trump. Here's W...\n",
       "\n",
       "[5 rows x 5 columns]"
      ]
     },
     "execution_count": 20,
     "metadata": {
      "tags": []
     },
     "output_type": "execute_result"
    }
   ],
   "source": [
    "df['title_and_text'] = df['title'] +' '+ df['text']\n",
    "df.tail()"
   ]
  },
  {
   "cell_type": "code",
   "execution_count": 27,
   "metadata": {
    "colab": {
     "base_uri": "https://localhost:8080/",
     "height": 108
    },
    "colab_type": "code",
    "executionInfo": {
     "elapsed": 2531,
     "status": "ok",
     "timestamp": 1576504031910,
     "user": {
      "displayName": "Chayma Bouzaidi",
      "photoUrl": "",
      "userId": "01302878369314211342"
     },
     "user_tz": -60
    },
    "id": "oqJ4GHnW8pIS",
    "outputId": "09995cdc-0a6e-4179-de74-e6f9d82e74db"
   },
   "outputs": [
    {
     "name": "stdout",
     "output_type": "stream",
     "text": [
      "[nltk_data] Downloading package stopwords to /root/nltk_data...\n",
      "[nltk_data]   Package stopwords is already up-to-date!\n",
      "[nltk_data] Downloading package wordnet to /root/nltk_data...\n",
      "[nltk_data]   Unzipping corpora/wordnet.zip.\n"
     ]
    },
    {
     "data": {
      "text/plain": [
       "True"
      ]
     },
     "execution_count": 27,
     "metadata": {
      "tags": []
     },
     "output_type": "execute_result"
    }
   ],
   "source": [
    "import nltk\n",
    "nltk.download(\"stopwords\")\n",
    "nltk.download(\"wordnet\")"
   ]
  },
  {
   "cell_type": "code",
   "execution_count": null,
   "metadata": {
    "colab": {},
    "colab_type": "code",
    "id": "XxBG6yrL63Pd"
   },
   "outputs": [],
   "source": [
    "df['preprocessed_text'] = df['title_and_text'].apply(lambda x: preprocess(x))"
   ]
  },
  {
   "cell_type": "code",
   "execution_count": null,
   "metadata": {
    "colab": {},
    "colab_type": "code",
    "id": "gb5QFFBM63Ph"
   },
   "outputs": [],
   "source": [
    "## Save preprocessed df\n",
    "df.to_csv(\"fake_or_real_news_train_PREPROCESSED.csv\", index=False)"
   ]
  },
  {
   "cell_type": "code",
   "execution_count": null,
   "metadata": {
    "colab": {},
    "colab_type": "code",
    "id": "W9F0kS3A63Pq"
   },
   "outputs": [],
   "source": [
    "df = pd.read_csv(\"fake_or_real_news_train_PREPROCESSED.csv\")\n",
    "df = df.astype(object).replace(np.nan, 'None')"
   ]
  },
  {
   "cell_type": "code",
   "execution_count": 31,
   "metadata": {
    "colab": {
     "base_uri": "https://localhost:8080/",
     "height": 285
    },
    "colab_type": "code",
    "executionInfo": {
     "elapsed": 866,
     "status": "ok",
     "timestamp": 1576504202571,
     "user": {
      "displayName": "Chayma Bouzaidi",
      "photoUrl": "",
      "userId": "01302878369314211342"
     },
     "user_tz": -60
    },
    "id": "ZOeB4qks63Pv",
    "outputId": "0ff4098f-e378-44b9-a8b2-f3c3a42c4274"
   },
   "outputs": [
    {
     "data": {
      "text/html": [
       "<div>\n",
       "<style scoped>\n",
       "    .dataframe tbody tr th:only-of-type {\n",
       "        vertical-align: middle;\n",
       "    }\n",
       "\n",
       "    .dataframe tbody tr th {\n",
       "        vertical-align: top;\n",
       "    }\n",
       "\n",
       "    .dataframe thead th {\n",
       "        text-align: right;\n",
       "    }\n",
       "</style>\n",
       "<table border=\"1\" class=\"dataframe\">\n",
       "  <thead>\n",
       "    <tr style=\"text-align: right;\">\n",
       "      <th></th>\n",
       "      <th>ID</th>\n",
       "      <th>title</th>\n",
       "      <th>text</th>\n",
       "      <th>label</th>\n",
       "      <th>title_and_text</th>\n",
       "      <th>preprocessed_text</th>\n",
       "    </tr>\n",
       "  </thead>\n",
       "  <tbody>\n",
       "    <tr>\n",
       "      <th>6313</th>\n",
       "      <td>4490</td>\n",
       "      <td>State Department says it can't find emails fro...</td>\n",
       "      <td>The State Department told the Republican Natio...</td>\n",
       "      <td>None</td>\n",
       "      <td>State Department says it can't find emails fro...</td>\n",
       "      <td>state department say can't find emails clinton...</td>\n",
       "    </tr>\n",
       "    <tr>\n",
       "      <th>6314</th>\n",
       "      <td>8062</td>\n",
       "      <td>The ‘P’ in PBS Should Stand for ‘Plutocratic’ ...</td>\n",
       "      <td>The ‘P’ in PBS Should Stand for ‘Plutocratic’ ...</td>\n",
       "      <td>None</td>\n",
       "      <td>The ‘P’ in PBS Should Stand for ‘Plutocratic’ ...</td>\n",
       "      <td>‘p’ pb stand ‘plutocratic’ ‘pentagon’ ‘p’ pb s...</td>\n",
       "    </tr>\n",
       "    <tr>\n",
       "      <th>6315</th>\n",
       "      <td>8622</td>\n",
       "      <td>Anti-Trump Protesters Are Tools of the Oligarc...</td>\n",
       "      <td>Anti-Trump Protesters Are Tools of the Oligar...</td>\n",
       "      <td>None</td>\n",
       "      <td>Anti-Trump Protesters Are Tools of the Oligarc...</td>\n",
       "      <td>anti-trump protester tool oligarchy informatio...</td>\n",
       "    </tr>\n",
       "    <tr>\n",
       "      <th>6316</th>\n",
       "      <td>4021</td>\n",
       "      <td>In Ethiopia, Obama seeks progress on peace, se...</td>\n",
       "      <td>ADDIS ABABA, Ethiopia —President Obama convene...</td>\n",
       "      <td>None</td>\n",
       "      <td>In Ethiopia, Obama seeks progress on peace, se...</td>\n",
       "      <td>ethiopia obama seek progress peace security ea...</td>\n",
       "    </tr>\n",
       "    <tr>\n",
       "      <th>6317</th>\n",
       "      <td>4330</td>\n",
       "      <td>Jeb Bush Is Suddenly Attacking Trump. Here's W...</td>\n",
       "      <td>Jeb Bush Is Suddenly Attacking Trump. Here's W...</td>\n",
       "      <td>None</td>\n",
       "      <td>Jeb Bush Is Suddenly Attacking Trump. Here's W...</td>\n",
       "      <td>jeb bush suddenly attack trump here's matter j...</td>\n",
       "    </tr>\n",
       "  </tbody>\n",
       "</table>\n",
       "</div>"
      ],
      "text/plain": [
       "        ID  ...                                  preprocessed_text\n",
       "6313  4490  ...  state department say can't find emails clinton...\n",
       "6314  8062  ...  ‘p’ pb stand ‘plutocratic’ ‘pentagon’ ‘p’ pb s...\n",
       "6315  8622  ...  anti-trump protester tool oligarchy informatio...\n",
       "6316  4021  ...  ethiopia obama seek progress peace security ea...\n",
       "6317  4330  ...  jeb bush suddenly attack trump here's matter j...\n",
       "\n",
       "[5 rows x 6 columns]"
      ]
     },
     "execution_count": 31,
     "metadata": {
      "tags": []
     },
     "output_type": "execute_result"
    }
   ],
   "source": [
    "df.tail()"
   ]
  },
  {
   "cell_type": "code",
   "execution_count": 32,
   "metadata": {
    "colab": {
     "base_uri": "https://localhost:8080/",
     "height": 290
    },
    "colab_type": "code",
    "executionInfo": {
     "elapsed": 1319,
     "status": "ok",
     "timestamp": 1576504206193,
     "user": {
      "displayName": "Chayma Bouzaidi",
      "photoUrl": "",
      "userId": "01302878369314211342"
     },
     "user_tz": -60
    },
    "id": "eqrl9mDN63Py",
    "outputId": "d0b2560b-7d07-4174-ee93-487c0f1e553e"
   },
   "outputs": [
    {
     "name": "stdout",
     "output_type": "stream",
     "text": [
      "\n",
      "Train dataset (Full)\n",
      "(3997, 7)\n",
      "Train dataset cols\n",
      "['ID', 'title', 'text', 'label', 'title_and_text', 'preprocessed_text', 'encoded_label']\n",
      "\n",
      "Train CV dataset (subset)\n",
      "(2677, 7)\n",
      "Train Holdout dataset (subset)\n",
      "(1320, 7)\n",
      "\n",
      "Test dataset\n",
      "(2321, 6)\n",
      "Test dataset cols\n",
      "['ID', 'title', 'text', 'label', 'title_and_text', 'preprocessed_text']\n"
     ]
    }
   ],
   "source": [
    "encoder, train, test, train_cv, train_holdout, train_cv_label, train_holdout_label = split_train_holdout_test(encoder, df)"
   ]
  },
  {
   "cell_type": "code",
   "execution_count": 33,
   "metadata": {
    "colab": {
     "base_uri": "https://localhost:8080/",
     "height": 35
    },
    "colab_type": "code",
    "executionInfo": {
     "elapsed": 1123,
     "status": "ok",
     "timestamp": 1576504208765,
     "user": {
      "displayName": "Chayma Bouzaidi",
      "photoUrl": "",
      "userId": "01302878369314211342"
     },
     "user_tz": -60
    },
    "id": "4Y3itJCO63P2",
    "outputId": "b44b959a-f723-4977-816d-2e9ef8126332"
   },
   "outputs": [
    {
     "data": {
      "text/plain": [
       "LabelEncoder()"
      ]
     },
     "execution_count": 33,
     "metadata": {
      "tags": []
     },
     "output_type": "execute_result"
    }
   ],
   "source": [
    "encoder"
   ]
  },
  {
   "cell_type": "code",
   "execution_count": null,
   "metadata": {
    "colab": {},
    "colab_type": "code",
    "id": "wsl6XOfL63P7"
   },
   "outputs": [],
   "source": [
    "models = pd.DataFrame(columns=['model_name', 'model_object', 'score'])"
   ]
  },
  {
   "cell_type": "code",
   "execution_count": null,
   "metadata": {
    "colab": {},
    "colab_type": "code",
    "id": "xkLfNn3Z63QA"
   },
   "outputs": [],
   "source": [
    "count_vect = CountVectorizer(analyzer = \"word\")\n",
    "\n",
    "count_vectorizer = count_vect.fit(df.preprocessed_text)\n",
    "\n",
    "train_cv_vector = count_vectorizer.transform(train_cv.preprocessed_text)\n",
    "train_holdout_vector = count_vectorizer.transform(train_holdout.preprocessed_text)\n",
    "test_vector = count_vectorizer.transform(test.preprocessed_text)"
   ]
  },
  {
   "cell_type": "code",
   "execution_count": 36,
   "metadata": {
    "colab": {
     "base_uri": "https://localhost:8080/",
     "height": 199
    },
    "colab_type": "code",
    "executionInfo": {
     "elapsed": 1115,
     "status": "ok",
     "timestamp": 1576504219790,
     "user": {
      "displayName": "Chayma Bouzaidi",
      "photoUrl": "",
      "userId": "01302878369314211342"
     },
     "user_tz": -60
    },
    "id": "27_qINZP63QM",
    "outputId": "54e167b5-3981-434a-c030-044778b86427"
   },
   "outputs": [
    {
     "data": {
      "text/plain": [
       "['___',\n",
       " '_blank',\n",
       " '_derosa',\n",
       " '_rt_op_edge',\n",
       " '_strauss',\n",
       " 'aa',\n",
       " 'aaa',\n",
       " 'aaahhh',\n",
       " 'aab',\n",
       " 'aachen']"
      ]
     },
     "execution_count": 36,
     "metadata": {
      "tags": []
     },
     "output_type": "execute_result"
    }
   ],
   "source": [
    "count_vect.get_feature_names()[:10]"
   ]
  },
  {
   "cell_type": "code",
   "execution_count": 37,
   "metadata": {
    "colab": {
     "base_uri": "https://localhost:8080/",
     "height": 952
    },
    "colab_type": "code",
    "executionInfo": {
     "elapsed": 170705,
     "status": "ok",
     "timestamp": 1576504392435,
     "user": {
      "displayName": "Chayma Bouzaidi",
      "photoUrl": "",
      "userId": "01302878369314211342"
     },
     "user_tz": -60
    },
    "id": "v_4dlEgp63QQ",
    "outputId": "5cb14989-ef09-40c4-a75a-561785b6026a"
   },
   "outputs": [
    {
     "name": "stdout",
     "output_type": "stream",
     "text": [
      "\u001b[31mBaseline Model 1: SVC\u001b[0m\n",
      "\u001b[33mGridSearchCV(cv=ShuffleSplit(n_splits=5, random_state=12345, test_size=0.2, train_size=None),\n",
      "             error_score='raise-deprecating',\n",
      "             estimator=SVC(C=1.0, cache_size=200, class_weight=None, coef0=0.0,\n",
      "                           decision_function_shape='ovr', degree=3,\n",
      "                           gamma='auto_deprecated', kernel='rbf', max_iter=-1,\n",
      "                           probability=False, random_state=None, shrinking=True,\n",
      "                           tol=0.001, verbose=False),\n",
      "             iid='warn', n_jobs=None,\n",
      "             param_grid=[{'C': [1, 10, 50, 100], 'kernel': ['linear']},\n",
      "                         {'C': [10, 100, 500, 1000], 'gamma': [0.0001],\n",
      "                          'kernel': ['rbf']}],\n",
      "             pre_dispatch='2*n_jobs', refit=True, return_train_score=False,\n",
      "             scoring=None, verbose=0)\u001b[0m\n",
      "\u001b[34m\n",
      "CV-scores\u001b[0m\n",
      "Accuracy: 0.909 (+/-0.022) for params: {'C': 100, 'gamma': 0.0001, 'kernel': 'rbf'}\n",
      "Accuracy: 0.902 (+/-0.030) for params: {'C': 500, 'gamma': 0.0001, 'kernel': 'rbf'}\n",
      "Accuracy: 0.893 (+/-0.030) for params: {'C': 1000, 'gamma': 0.0001, 'kernel': 'rbf'}\n",
      "Accuracy: 0.892 (+/-0.036) for params: {'C': 1, 'kernel': 'linear'}\n",
      "Accuracy: 0.892 (+/-0.036) for params: {'C': 10, 'kernel': 'linear'}\n",
      "Accuracy: 0.892 (+/-0.036) for params: {'C': 50, 'kernel': 'linear'}\n",
      "Accuracy: 0.892 (+/-0.036) for params: {'C': 100, 'kernel': 'linear'}\n",
      "Accuracy: 0.886 (+/-0.011) for params: {'C': 10, 'gamma': 0.0001, 'kernel': 'rbf'}\n",
      "\n",
      "\u001b[34m\n",
      "Best Estimator Params\u001b[0m\n",
      "\u001b[33mSVC(C=100, cache_size=200, class_weight=None, coef0=0.0,\n",
      "    decision_function_shape='ovr', degree=3, gamma=0.0001, kernel='rbf',\n",
      "    max_iter=-1, probability=False, random_state=None, shrinking=True,\n",
      "    tol=0.001, verbose=False)\u001b[0m\n",
      "\u001b[34m\n",
      "Predictions:\u001b[0m\n",
      "['REAL' 'REAL' 'FAKE' ... 'REAL' 'FAKE' 'REAL']\n"
     ]
    },
    {
     "data": {
      "image/png": "[encoded data removed]",
      "text/plain": [
       "<Figure size 396x288 with 2 Axes>"
      ]
     },
     "metadata": {
      "tags": []
     },
     "output_type": "display_data"
    },
    {
     "name": "stdout",
     "output_type": "stream",
     "text": [
      "\u001b[34m\n",
      "Accuracy:\u001b[0m\n",
      "\u001b[32m0.9136363636363637\u001b[0m\n"
     ]
    }
   ],
   "source": [
    "SVC_classifier = runModel(encoder,\n",
    "               train_cv_vector,\n",
    "               train_cv_label,\n",
    "               train_holdout_vector,\n",
    "               train_holdout.label,\n",
    "               \"svc\",\n",
    "               \"Baseline Model 1: SVC\")\n",
    "models.loc[len(models)] = SVC"
   ]
  },
  {
   "cell_type": "code",
   "execution_count": 38,
   "metadata": {
    "colab": {
     "base_uri": "https://localhost:8080/",
     "height": 643
    },
    "colab_type": "code",
    "executionInfo": {
     "elapsed": 920,
     "status": "ok",
     "timestamp": 1576504433185,
     "user": {
      "displayName": "Chayma Bouzaidi",
      "photoUrl": "",
      "userId": "01302878369314211342"
     },
     "user_tz": -60
    },
    "id": "3y41yYCs63QV",
    "outputId": "cff5d367-ddfe-4ce8-bc9d-ad21ea36458c"
   },
   "outputs": [
    {
     "name": "stdout",
     "output_type": "stream",
     "text": [
      "\u001b[31mBaseline Model 2: Naiive Bayes\u001b[0m\n",
      "\u001b[33mGridSearchCV(cv=ShuffleSplit(n_splits=5, random_state=12345, test_size=0.2, train_size=None),\n",
      "             error_score='raise-deprecating',\n",
      "             estimator=MultinomialNB(alpha=1.0, class_prior=None,\n",
      "                                     fit_prior=True),\n",
      "             iid='warn', n_jobs=None, param_grid={}, pre_dispatch='2*n_jobs',\n",
      "             refit=True, return_train_score=False, scoring=None, verbose=0)\u001b[0m\n",
      "\u001b[34m\n",
      "CV-scores\u001b[0m\n",
      "Accuracy: 0.887 (+/-0.021) for params: {}\n",
      "\n",
      "\u001b[34m\n",
      "Best Estimator Params\u001b[0m\n",
      "\u001b[33mMultinomialNB(alpha=1.0, class_prior=None, fit_prior=True)\u001b[0m\n",
      "\u001b[34m\n",
      "Predictions:\u001b[0m\n",
      "['REAL' 'REAL' 'REAL' ... 'REAL' 'REAL' 'REAL']\n"
     ]
    },
    {
     "data": {
      "image/png": "[encoded data removed]",
      "text/plain": [
       "<Figure size 396x288 with 2 Axes>"
      ]
     },
     "metadata": {
      "tags": []
     },
     "output_type": "display_data"
    },
    {
     "name": "stdout",
     "output_type": "stream",
     "text": [
      "\u001b[34m\n",
      "Accuracy:\u001b[0m\n",
      "\u001b[32m0.8946969696969697\u001b[0m\n"
     ]
    }
   ],
   "source": [
    "NB = runModel(encoder,\n",
    "              train_cv_vector,\n",
    "              train_cv_label,\n",
    "              train_holdout_vector,\n",
    "              train_holdout.label,\n",
    "              \"nb\",\n",
    "              \"Baseline Model 2: Naiive Bayes\")\n",
    "models.loc[len(models)] = NB"
   ]
  },
  {
   "cell_type": "code",
   "execution_count": 39,
   "metadata": {
    "colab": {
     "base_uri": "https://localhost:8080/",
     "height": 1000
    },
    "colab_type": "code",
    "executionInfo": {
     "elapsed": 22560,
     "status": "ok",
     "timestamp": 1576504456661,
     "user": {
      "displayName": "Chayma Bouzaidi",
      "photoUrl": "",
      "userId": "01302878369314211342"
     },
     "user_tz": -60
    },
    "id": "tjTGiA6R63Qf",
    "outputId": "3d4135ae-9114-45a7-a0ce-de3f1877b3b5"
   },
   "outputs": [
    {
     "name": "stdout",
     "output_type": "stream",
     "text": [
      "\u001b[31mBaseline Model 3: MaxEnt Classifier\u001b[0m\n",
      "\u001b[33mGridSearchCV(cv=ShuffleSplit(n_splits=5, random_state=12345, test_size=0.2, train_size=None),\n",
      "             error_score='raise-deprecating',\n",
      "             estimator=LogisticRegression(C=1.0, class_weight=None, dual=False,\n",
      "                                          fit_intercept=True,\n",
      "                                          intercept_scaling=1, l1_ratio=None,\n",
      "                                          max_iter=100, multi_class='warn',\n",
      "                                          n_jobs=None, penalty='l2',\n",
      "                                          random_state=None, solver='warn',\n",
      "                                          tol=0.0001, verbose=0,\n",
      "                                          warm_start=False),\n",
      "             iid='warn', n_jobs=None,\n",
      "             param_grid={'C': [0.001, 0.01, 0.1, 1, 10, 100, 1000],\n",
      "                         'penalty': ['l1', 'l2']},\n",
      "             pre_dispatch='2*n_jobs', refit=True, return_train_score=False,\n",
      "             scoring=None, verbose=0)\u001b[0m\n",
      "\u001b[34m\n",
      "CV-scores\u001b[0m\n",
      "Accuracy: 0.932 (+/-0.013) for params: {'C': 0.1, 'penalty': 'l2'}\n",
      "Accuracy: 0.926 (+/-0.014) for params: {'C': 0.01, 'penalty': 'l2'}\n",
      "Accuracy: 0.925 (+/-0.018) for params: {'C': 1, 'penalty': 'l2'}\n",
      "Accuracy: 0.916 (+/-0.026) for params: {'C': 10, 'penalty': 'l2'}\n",
      "Accuracy: 0.916 (+/-0.027) for params: {'C': 1, 'penalty': 'l1'}\n",
      "Accuracy: 0.909 (+/-0.017) for params: {'C': 0.001, 'penalty': 'l2'}\n",
      "Accuracy: 0.908 (+/-0.018) for params: {'C': 10, 'penalty': 'l1'}\n",
      "Accuracy: 0.906 (+/-0.026) for params: {'C': 100, 'penalty': 'l1'}\n",
      "Accuracy: 0.903 (+/-0.009) for params: {'C': 0.1, 'penalty': 'l1'}\n",
      "Accuracy: 0.892 (+/-0.026) for params: {'C': 100, 'penalty': 'l2'}\n",
      "Accuracy: 0.890 (+/-0.032) for params: {'C': 1000, 'penalty': 'l1'}\n",
      "Accuracy: 0.883 (+/-0.023) for params: {'C': 1000, 'penalty': 'l2'}\n",
      "Accuracy: 0.843 (+/-0.028) for params: {'C': 0.01, 'penalty': 'l1'}\n",
      "Accuracy: 0.610 (+/-0.019) for params: {'C': 0.001, 'penalty': 'l1'}\n",
      "\n",
      "\u001b[34m\n",
      "Best Estimator Params\u001b[0m\n",
      "\u001b[33mLogisticRegression(C=0.1, class_weight=None, dual=False, fit_intercept=True,\n",
      "                   intercept_scaling=1, l1_ratio=None, max_iter=100,\n",
      "                   multi_class='warn', n_jobs=None, penalty='l2',\n",
      "                   random_state=None, solver='warn', tol=0.0001, verbose=0,\n",
      "                   warm_start=False)\u001b[0m\n",
      "\u001b[34m\n",
      "Predictions:\u001b[0m\n",
      "['REAL' 'REAL' 'FAKE' ... 'REAL' 'FAKE' 'REAL']\n"
     ]
    },
    {
     "data": {
      "image/png": "[encoded data removed]",
      "text/plain": [
       "<Figure size 396x288 with 2 Axes>"
      ]
     },
     "metadata": {
      "tags": []
     },
     "output_type": "display_data"
    },
    {
     "name": "stdout",
     "output_type": "stream",
     "text": [
      "\u001b[34m\n",
      "Accuracy:\u001b[0m\n",
      "\u001b[32m0.9234848484848485\u001b[0m\n"
     ]
    }
   ],
   "source": [
    "maxEnt = runModel(encoder,\n",
    "              train_cv_vector,\n",
    "              train_cv_label,\n",
    "              train_holdout_vector,\n",
    "              train_holdout.label,\n",
    "              \"maxEnt\",\n",
    "              \"Baseline Model 3: MaxEnt Classifier\")\n",
    "models.loc[len(models)] = maxEnt"
   ]
  },
  {
   "cell_type": "code",
   "execution_count": 40,
   "metadata": {
    "colab": {
     "base_uri": "https://localhost:8080/",
     "height": 138
    },
    "colab_type": "code",
    "executionInfo": {
     "elapsed": 1005,
     "status": "ok",
     "timestamp": 1576504463527,
     "user": {
      "displayName": "Chayma Bouzaidi",
      "photoUrl": "",
      "userId": "01302878369314211342"
     },
     "user_tz": -60
    },
    "id": "u4RGL7x563Qk",
    "outputId": "25979466-6ae0-4830-b199-af60dec4693d"
   },
   "outputs": [
    {
     "data": {
      "text/html": [
       "<div>\n",
       "<style scoped>\n",
       "    .dataframe tbody tr th:only-of-type {\n",
       "        vertical-align: middle;\n",
       "    }\n",
       "\n",
       "    .dataframe tbody tr th {\n",
       "        vertical-align: top;\n",
       "    }\n",
       "\n",
       "    .dataframe thead th {\n",
       "        text-align: right;\n",
       "    }\n",
       "</style>\n",
       "<table border=\"1\" class=\"dataframe\">\n",
       "  <thead>\n",
       "    <tr style=\"text-align: right;\">\n",
       "      <th></th>\n",
       "      <th>model_name</th>\n",
       "      <th>model_object</th>\n",
       "      <th>score</th>\n",
       "    </tr>\n",
       "  </thead>\n",
       "  <tbody>\n",
       "    <tr>\n",
       "      <th>0</th>\n",
       "      <td>&lt;class 'sklearn.svm.classes.SVC'&gt;</td>\n",
       "      <td>&lt;class 'sklearn.svm.classes.SVC'&gt;</td>\n",
       "      <td>&lt;class 'sklearn.svm.classes.SVC'&gt;</td>\n",
       "    </tr>\n",
       "    <tr>\n",
       "      <th>1</th>\n",
       "      <td>Baseline Model 2: Naiive Bayes</td>\n",
       "      <td>GridSearchCV(cv=ShuffleSplit(n_splits=5, rando...</td>\n",
       "      <td>0.894697</td>\n",
       "    </tr>\n",
       "    <tr>\n",
       "      <th>2</th>\n",
       "      <td>Baseline Model 3: MaxEnt Classifier</td>\n",
       "      <td>GridSearchCV(cv=ShuffleSplit(n_splits=5, rando...</td>\n",
       "      <td>0.923485</td>\n",
       "    </tr>\n",
       "  </tbody>\n",
       "</table>\n",
       "</div>"
      ],
      "text/plain": [
       "                            model_name  ...                              score\n",
       "0    <class 'sklearn.svm.classes.SVC'>  ...  <class 'sklearn.svm.classes.SVC'>\n",
       "1       Baseline Model 2: Naiive Bayes  ...                           0.894697\n",
       "2  Baseline Model 3: MaxEnt Classifier  ...                           0.923485\n",
       "\n",
       "[3 rows x 3 columns]"
      ]
     },
     "execution_count": 40,
     "metadata": {
      "tags": []
     },
     "output_type": "execute_result"
    }
   ],
   "source": [
    "models"
   ]
  },
  {
   "cell_type": "code",
   "execution_count": 43,
   "metadata": {
    "colab": {
     "base_uri": "https://localhost:8080/",
     "height": 72
    },
    "colab_type": "code",
    "executionInfo": {
     "elapsed": 1114,
     "status": "ok",
     "timestamp": 1576504497283,
     "user": {
      "displayName": "Chayma Bouzaidi",
      "photoUrl": "",
      "userId": "01302878369314211342"
     },
     "user_tz": -60
    },
    "id": "sS6RZs5l_US4",
    "outputId": "4122e7ca-4214-423f-cb8e-a9b45c6be16a"
   },
   "outputs": [
    {
     "name": "stdout",
     "output_type": "stream",
     "text": [
      "[nltk_data] Downloading package punkt to /root/nltk_data...\n",
      "[nltk_data]   Unzipping tokenizers/punkt.zip.\n"
     ]
    },
    {
     "data": {
      "text/plain": [
       "True"
      ]
     },
     "execution_count": 43,
     "metadata": {
      "tags": []
     },
     "output_type": "execute_result"
    }
   ],
   "source": [
    "nltk.download(\"punkt\")"
   ]
  },
  {
   "cell_type": "code",
   "execution_count": null,
   "metadata": {
    "colab": {},
    "colab_type": "code",
    "id": "CU4kUWON63Qr"
   },
   "outputs": [],
   "source": [
    "df['pos_tagged_text'] = df['preprocessed_text'].apply(lambda x: pos_tag_words(x))"
   ]
  },
  {
   "cell_type": "code",
   "execution_count": 45,
   "metadata": {
    "colab": {
     "base_uri": "https://localhost:8080/",
     "height": 285
    },
    "colab_type": "code",
    "executionInfo": {
     "elapsed": 1054,
     "status": "ok",
     "timestamp": 1576504658960,
     "user": {
      "displayName": "Chayma Bouzaidi",
      "photoUrl": "",
      "userId": "01302878369314211342"
     },
     "user_tz": -60
    },
    "id": "ZSb4NUA163Qx",
    "outputId": "2b1f901b-ecd2-4eb9-8232-714c6e028505"
   },
   "outputs": [
    {
     "data": {
      "text/html": [
       "<div>\n",
       "<style scoped>\n",
       "    .dataframe tbody tr th:only-of-type {\n",
       "        vertical-align: middle;\n",
       "    }\n",
       "\n",
       "    .dataframe tbody tr th {\n",
       "        vertical-align: top;\n",
       "    }\n",
       "\n",
       "    .dataframe thead th {\n",
       "        text-align: right;\n",
       "    }\n",
       "</style>\n",
       "<table border=\"1\" class=\"dataframe\">\n",
       "  <thead>\n",
       "    <tr style=\"text-align: right;\">\n",
       "      <th></th>\n",
       "      <th>ID</th>\n",
       "      <th>title</th>\n",
       "      <th>text</th>\n",
       "      <th>label</th>\n",
       "      <th>title_and_text</th>\n",
       "      <th>preprocessed_text</th>\n",
       "      <th>pos_tagged_text</th>\n",
       "    </tr>\n",
       "  </thead>\n",
       "  <tbody>\n",
       "    <tr>\n",
       "      <th>0</th>\n",
       "      <td>8476</td>\n",
       "      <td>You Can Smell Hillary’s Fear</td>\n",
       "      <td>Daniel Greenfield | a Shillman Journalism Fell...</td>\n",
       "      <td>FAKE</td>\n",
       "      <td>You Can Smell Hillary’s Fear Daniel Greenfield...</td>\n",
       "      <td>smell hillary’s fear daniel greenfield shillma...</td>\n",
       "      <td>NN-smell JJ-hillary NNP-’ NN-s NN-fear JJ-dani...</td>\n",
       "    </tr>\n",
       "    <tr>\n",
       "      <th>1</th>\n",
       "      <td>10294</td>\n",
       "      <td>Watch The Exact Moment Paul Ryan Committed Pol...</td>\n",
       "      <td>Google Pinterest Digg Linkedin Reddit Stumbleu...</td>\n",
       "      <td>FAKE</td>\n",
       "      <td>Watch The Exact Moment Paul Ryan Committed Pol...</td>\n",
       "      <td>watch exact moment paul ryan commit political ...</td>\n",
       "      <td>NN-watch JJ-exact NN-moment NN-paul JJ-ryan NN...</td>\n",
       "    </tr>\n",
       "    <tr>\n",
       "      <th>2</th>\n",
       "      <td>3608</td>\n",
       "      <td>Kerry to go to Paris in gesture of sympathy</td>\n",
       "      <td>U.S. Secretary of State John F. Kerry said Mon...</td>\n",
       "      <td>REAL</td>\n",
       "      <td>Kerry to go to Paris in gesture of sympathy U....</td>\n",
       "      <td>kerry go paris gesture sympathy u.s secretary ...</td>\n",
       "      <td>NN-kerry VBP-go JJ-paris NN-gesture JJ-sympath...</td>\n",
       "    </tr>\n",
       "    <tr>\n",
       "      <th>3</th>\n",
       "      <td>10142</td>\n",
       "      <td>Bernie supporters on Twitter erupt in anger ag...</td>\n",
       "      <td>— Kaydee King (@KaydeeKing) November 9 | 2016 ...</td>\n",
       "      <td>FAKE</td>\n",
       "      <td>Bernie supporters on Twitter erupt in anger ag...</td>\n",
       "      <td>bernie supporter twitter erupt anger dnc try w...</td>\n",
       "      <td>NN-bernie NN-supporter NN-twitter JJ-erupt NN-...</td>\n",
       "    </tr>\n",
       "    <tr>\n",
       "      <th>4</th>\n",
       "      <td>875</td>\n",
       "      <td>The Battle of New York: Why This Primary Matte...</td>\n",
       "      <td>Cruz promised his supporters. \"\"We're beating...</td>\n",
       "      <td>REAL</td>\n",
       "      <td>The Battle of New York: Why This Primary Matte...</td>\n",
       "      <td>battle new york primary matter primary day new...</td>\n",
       "      <td>NN-battle JJ-new NN-york JJ-primary NN-matter ...</td>\n",
       "    </tr>\n",
       "  </tbody>\n",
       "</table>\n",
       "</div>"
      ],
      "text/plain": [
       "      ID  ...                                    pos_tagged_text\n",
       "0   8476  ...  NN-smell JJ-hillary NNP-’ NN-s NN-fear JJ-dani...\n",
       "1  10294  ...  NN-watch JJ-exact NN-moment NN-paul JJ-ryan NN...\n",
       "2   3608  ...  NN-kerry VBP-go JJ-paris NN-gesture JJ-sympath...\n",
       "3  10142  ...  NN-bernie NN-supporter NN-twitter JJ-erupt NN-...\n",
       "4    875  ...  NN-battle JJ-new NN-york JJ-primary NN-matter ...\n",
       "\n",
       "[5 rows x 7 columns]"
      ]
     },
     "execution_count": 45,
     "metadata": {
      "tags": []
     },
     "output_type": "execute_result"
    }
   ],
   "source": [
    "df.head()"
   ]
  },
  {
   "cell_type": "code",
   "execution_count": null,
   "metadata": {
    "colab": {},
    "colab_type": "code",
    "id": "IoP5jAsa63Q2"
   },
   "outputs": [],
   "source": [
    "encoder, train, test, train_cv, train_holdout, train_cv_label, train_holdout_label = split_train_holdout_test(encoder, df, False)\n",
    "\n",
    "count_vect = CountVectorizer(analyzer = \"word\")\n",
    "\n",
    "count_vectorizer = count_vect.fit(df.preprocessed_text)\n",
    "\n",
    "train_cv_vector = count_vectorizer.transform(train_cv.pos_tagged_text)\n",
    "train_holdout_vector = count_vectorizer.transform(train_holdout.pos_tagged_text)\n",
    "test_vector = count_vectorizer.transform(test.pos_tagged_text)"
   ]
  },
  {
   "cell_type": "code",
   "execution_count": 47,
   "metadata": {
    "colab": {
     "base_uri": "https://localhost:8080/",
     "height": 952
    },
    "colab_type": "code",
    "executionInfo": {
     "elapsed": 224297,
     "status": "ok",
     "timestamp": 1576504893574,
     "user": {
      "displayName": "Chayma Bouzaidi",
      "photoUrl": "",
      "userId": "01302878369314211342"
     },
     "user_tz": -60
    },
    "id": "zm-oMfC263Q-",
    "outputId": "f23bc68d-e523-400e-a423-4fe047dfc6b1"
   },
   "outputs": [
    {
     "name": "stdout",
     "output_type": "stream",
     "text": [
      "\u001b[31mSVC on pos-tagged text\u001b[0m\n",
      "\u001b[33mGridSearchCV(cv=ShuffleSplit(n_splits=5, random_state=12345, test_size=0.2, train_size=None),\n",
      "             error_score='raise-deprecating',\n",
      "             estimator=SVC(C=1.0, cache_size=200, class_weight=None, coef0=0.0,\n",
      "                           decision_function_shape='ovr', degree=3,\n",
      "                           gamma='auto_deprecated', kernel='rbf', max_iter=-1,\n",
      "                           probability=False, random_state=None, shrinking=True,\n",
      "                           tol=0.001, verbose=False),\n",
      "             iid='warn', n_jobs=None,\n",
      "             param_grid=[{'C': [1, 10, 50, 100], 'kernel': ['linear']},\n",
      "                         {'C': [10, 100, 500, 1000], 'gamma': [0.0001],\n",
      "                          'kernel': ['rbf']}],\n",
      "             pre_dispatch='2*n_jobs', refit=True, return_train_score=False,\n",
      "             scoring=None, verbose=0)\u001b[0m\n",
      "\u001b[34m\n",
      "CV-scores\u001b[0m\n",
      "Accuracy: 0.921 (+/-0.026) for params: {'C': 100, 'gamma': 0.0001, 'kernel': 'rbf'}\n",
      "Accuracy: 0.914 (+/-0.020) for params: {'C': 500, 'gamma': 0.0001, 'kernel': 'rbf'}\n",
      "Accuracy: 0.912 (+/-0.028) for params: {'C': 1000, 'gamma': 0.0001, 'kernel': 'rbf'}\n",
      "Accuracy: 0.912 (+/-0.023) for params: {'C': 10, 'gamma': 0.0001, 'kernel': 'rbf'}\n",
      "Accuracy: 0.905 (+/-0.018) for params: {'C': 1, 'kernel': 'linear'}\n",
      "Accuracy: 0.905 (+/-0.018) for params: {'C': 10, 'kernel': 'linear'}\n",
      "Accuracy: 0.905 (+/-0.018) for params: {'C': 50, 'kernel': 'linear'}\n",
      "Accuracy: 0.905 (+/-0.018) for params: {'C': 100, 'kernel': 'linear'}\n",
      "\n",
      "\u001b[34m\n",
      "Best Estimator Params\u001b[0m\n",
      "\u001b[33mSVC(C=100, cache_size=200, class_weight=None, coef0=0.0,\n",
      "    decision_function_shape='ovr', degree=3, gamma=0.0001, kernel='rbf',\n",
      "    max_iter=-1, probability=False, random_state=None, shrinking=True,\n",
      "    tol=0.001, verbose=False)\u001b[0m\n",
      "\u001b[34m\n",
      "Predictions:\u001b[0m\n",
      "['REAL' 'REAL' 'FAKE' ... 'REAL' 'REAL' 'FAKE']\n"
     ]
    },
    {
     "data": {
      "image/png": "[encoded data removed]",
      "text/plain": [
       "<Figure size 396x288 with 2 Axes>"
      ]
     },
     "metadata": {
      "tags": []
     },
     "output_type": "display_data"
    },
    {
     "name": "stdout",
     "output_type": "stream",
     "text": [
      "\u001b[34m\n",
      "Accuracy:\u001b[0m\n",
      "\u001b[32m0.9159090909090909\u001b[0m\n"
     ]
    }
   ],
   "source": [
    "SVC_pos_tag = runModel(encoder,\n",
    "               train_cv_vector,\n",
    "               train_cv_label,\n",
    "               train_holdout_vector,\n",
    "               train_holdout.label,\n",
    "               \"svc\",\n",
    "               \"SVC on pos-tagged text\")\n",
    "models.loc[len(models)] = SVC_pos_tag"
   ]
  },
  {
   "cell_type": "code",
   "execution_count": 48,
   "metadata": {
    "colab": {
     "base_uri": "https://localhost:8080/",
     "height": 643
    },
    "colab_type": "code",
    "executionInfo": {
     "elapsed": 910,
     "status": "ok",
     "timestamp": 1576504903581,
     "user": {
      "displayName": "Chayma Bouzaidi",
      "photoUrl": "",
      "userId": "01302878369314211342"
     },
     "user_tz": -60
    },
    "id": "62jOMLR063RC",
    "outputId": "2da9c96f-10cd-4d35-900f-0b50e7f419b0"
   },
   "outputs": [
    {
     "name": "stdout",
     "output_type": "stream",
     "text": [
      "\u001b[31mNaiive Bayes on pos-tagged text\u001b[0m\n",
      "\u001b[33mGridSearchCV(cv=ShuffleSplit(n_splits=5, random_state=12345, test_size=0.2, train_size=None),\n",
      "             error_score='raise-deprecating',\n",
      "             estimator=MultinomialNB(alpha=1.0, class_prior=None,\n",
      "                                     fit_prior=True),\n",
      "             iid='warn', n_jobs=None, param_grid={}, pre_dispatch='2*n_jobs',\n",
      "             refit=True, return_train_score=False, scoring=None, verbose=0)\u001b[0m\n",
      "\u001b[34m\n",
      "CV-scores\u001b[0m\n",
      "Accuracy: 0.889 (+/-0.017) for params: {}\n",
      "\n",
      "\u001b[34m\n",
      "Best Estimator Params\u001b[0m\n",
      "\u001b[33mMultinomialNB(alpha=1.0, class_prior=None, fit_prior=True)\u001b[0m\n",
      "\u001b[34m\n",
      "Predictions:\u001b[0m\n",
      "['REAL' 'REAL' 'REAL' ... 'REAL' 'REAL' 'REAL']\n"
     ]
    },
    {
     "data": {
      "image/png": "[encoded data removed]",
      "text/plain": [
       "<Figure size 396x288 with 2 Axes>"
      ]
     },
     "metadata": {
      "tags": []
     },
     "output_type": "display_data"
    },
    {
     "name": "stdout",
     "output_type": "stream",
     "text": [
      "\u001b[34m\n",
      "Accuracy:\u001b[0m\n",
      "\u001b[32m0.8977272727272727\u001b[0m\n"
     ]
    }
   ],
   "source": [
    "NB_pos_tag = runModel(encoder,\n",
    "              train_cv_vector,\n",
    "              train_cv_label,\n",
    "              train_holdout_vector,\n",
    "              train_holdout.label,\n",
    "              \"nb\",\n",
    "              \"Naiive Bayes on pos-tagged text\")\n",
    "models.loc[len(models)] = NB_pos_tag"
   ]
  },
  {
   "cell_type": "code",
   "execution_count": 49,
   "metadata": {
    "colab": {
     "base_uri": "https://localhost:8080/",
     "height": 1000
    },
    "colab_type": "code",
    "executionInfo": {
     "elapsed": 24100,
     "status": "ok",
     "timestamp": 1576504928594,
     "user": {
      "displayName": "Chayma Bouzaidi",
      "photoUrl": "",
      "userId": "01302878369314211342"
     },
     "user_tz": -60
    },
    "id": "Ygic44n063RK",
    "outputId": "071a97b1-415f-43c0-a098-feb2eb960393"
   },
   "outputs": [
    {
     "name": "stdout",
     "output_type": "stream",
     "text": [
      "\u001b[31mMaxEnt Classifier on pos-tagged text\u001b[0m\n",
      "\u001b[33mGridSearchCV(cv=ShuffleSplit(n_splits=5, random_state=12345, test_size=0.2, train_size=None),\n",
      "             error_score='raise-deprecating',\n",
      "             estimator=LogisticRegression(C=1.0, class_weight=None, dual=False,\n",
      "                                          fit_intercept=True,\n",
      "                                          intercept_scaling=1, l1_ratio=None,\n",
      "                                          max_iter=100, multi_class='warn',\n",
      "                                          n_jobs=None, penalty='l2',\n",
      "                                          random_state=None, solver='warn',\n",
      "                                          tol=0.0001, verbose=0,\n",
      "                                          warm_start=False),\n",
      "             iid='warn', n_jobs=None,\n",
      "             param_grid={'C': [0.001, 0.01, 0.1, 1, 10, 100, 1000],\n",
      "                         'penalty': ['l1', 'l2']},\n",
      "             pre_dispatch='2*n_jobs', refit=True, return_train_score=False,\n",
      "             scoring=None, verbose=0)\u001b[0m\n",
      "\u001b[34m\n",
      "CV-scores\u001b[0m\n",
      "Accuracy: 0.930 (+/-0.026) for params: {'C': 0.1, 'penalty': 'l2'}\n",
      "Accuracy: 0.928 (+/-0.029) for params: {'C': 1, 'penalty': 'l2'}\n",
      "Accuracy: 0.926 (+/-0.017) for params: {'C': 0.01, 'penalty': 'l2'}\n",
      "Accuracy: 0.925 (+/-0.028) for params: {'C': 1, 'penalty': 'l1'}\n",
      "Accuracy: 0.922 (+/-0.022) for params: {'C': 10, 'penalty': 'l2'}\n",
      "Accuracy: 0.921 (+/-0.022) for params: {'C': 10, 'penalty': 'l1'}\n",
      "Accuracy: 0.920 (+/-0.023) for params: {'C': 100, 'penalty': 'l2'}\n",
      "Accuracy: 0.919 (+/-0.021) for params: {'C': 1000, 'penalty': 'l2'}\n",
      "Accuracy: 0.911 (+/-0.020) for params: {'C': 0.1, 'penalty': 'l1'}\n",
      "Accuracy: 0.908 (+/-0.011) for params: {'C': 0.001, 'penalty': 'l2'}\n",
      "Accuracy: 0.907 (+/-0.028) for params: {'C': 100, 'penalty': 'l1'}\n",
      "Accuracy: 0.888 (+/-0.016) for params: {'C': 1000, 'penalty': 'l1'}\n",
      "Accuracy: 0.848 (+/-0.026) for params: {'C': 0.01, 'penalty': 'l1'}\n",
      "Accuracy: 0.662 (+/-0.021) for params: {'C': 0.001, 'penalty': 'l1'}\n",
      "\n",
      "\u001b[34m\n",
      "Best Estimator Params\u001b[0m\n",
      "\u001b[33mLogisticRegression(C=0.1, class_weight=None, dual=False, fit_intercept=True,\n",
      "                   intercept_scaling=1, l1_ratio=None, max_iter=100,\n",
      "                   multi_class='warn', n_jobs=None, penalty='l2',\n",
      "                   random_state=None, solver='warn', tol=0.0001, verbose=0,\n",
      "                   warm_start=False)\u001b[0m\n",
      "\u001b[34m\n",
      "Predictions:\u001b[0m\n",
      "['REAL' 'REAL' 'FAKE' ... 'REAL' 'FAKE' 'REAL']\n"
     ]
    },
    {
     "data": {
      "image/png": "[encoded data removed]",
      "text/plain": [
       "<Figure size 396x288 with 2 Axes>"
      ]
     },
     "metadata": {
      "tags": []
     },
     "output_type": "display_data"
    },
    {
     "name": "stdout",
     "output_type": "stream",
     "text": [
      "\u001b[34m\n",
      "Accuracy:\u001b[0m\n",
      "\u001b[32m0.9295454545454546\u001b[0m\n"
     ]
    }
   ],
   "source": [
    "maxEnt_pos_tag = runModel(encoder,\n",
    "              train_cv_vector,\n",
    "              train_cv_label,\n",
    "              train_holdout_vector,\n",
    "              train_holdout.label,\n",
    "              \"maxEnt\",\n",
    "              \"MaxEnt Classifier on pos-tagged text\")\n",
    "models.loc[len(models)] = maxEnt_pos_tag"
   ]
  },
  {
   "cell_type": "code",
   "execution_count": 50,
   "metadata": {
    "colab": {
     "base_uri": "https://localhost:8080/",
     "height": 228
    },
    "colab_type": "code",
    "executionInfo": {
     "elapsed": 1006,
     "status": "ok",
     "timestamp": 1576504937302,
     "user": {
      "displayName": "Chayma Bouzaidi",
      "photoUrl": "",
      "userId": "01302878369314211342"
     },
     "user_tz": -60
    },
    "id": "2lGqaW_163RS",
    "outputId": "09a1d4e3-5eb1-4be4-f29d-61658eddb555"
   },
   "outputs": [
    {
     "data": {
      "text/html": [
       "<div>\n",
       "<style scoped>\n",
       "    .dataframe tbody tr th:only-of-type {\n",
       "        vertical-align: middle;\n",
       "    }\n",
       "\n",
       "    .dataframe tbody tr th {\n",
       "        vertical-align: top;\n",
       "    }\n",
       "\n",
       "    .dataframe thead th {\n",
       "        text-align: right;\n",
       "    }\n",
       "</style>\n",
       "<table border=\"1\" class=\"dataframe\">\n",
       "  <thead>\n",
       "    <tr style=\"text-align: right;\">\n",
       "      <th></th>\n",
       "      <th>model_name</th>\n",
       "      <th>model_object</th>\n",
       "      <th>score</th>\n",
       "    </tr>\n",
       "  </thead>\n",
       "  <tbody>\n",
       "    <tr>\n",
       "      <th>0</th>\n",
       "      <td>&lt;class 'sklearn.svm.classes.SVC'&gt;</td>\n",
       "      <td>&lt;class 'sklearn.svm.classes.SVC'&gt;</td>\n",
       "      <td>&lt;class 'sklearn.svm.classes.SVC'&gt;</td>\n",
       "    </tr>\n",
       "    <tr>\n",
       "      <th>1</th>\n",
       "      <td>Baseline Model 2: Naiive Bayes</td>\n",
       "      <td>GridSearchCV(cv=ShuffleSplit(n_splits=5, rando...</td>\n",
       "      <td>0.894697</td>\n",
       "    </tr>\n",
       "    <tr>\n",
       "      <th>2</th>\n",
       "      <td>Baseline Model 3: MaxEnt Classifier</td>\n",
       "      <td>GridSearchCV(cv=ShuffleSplit(n_splits=5, rando...</td>\n",
       "      <td>0.923485</td>\n",
       "    </tr>\n",
       "    <tr>\n",
       "      <th>3</th>\n",
       "      <td>SVC on pos-tagged text</td>\n",
       "      <td>GridSearchCV(cv=ShuffleSplit(n_splits=5, rando...</td>\n",
       "      <td>0.915909</td>\n",
       "    </tr>\n",
       "    <tr>\n",
       "      <th>4</th>\n",
       "      <td>Naiive Bayes on pos-tagged text</td>\n",
       "      <td>GridSearchCV(cv=ShuffleSplit(n_splits=5, rando...</td>\n",
       "      <td>0.897727</td>\n",
       "    </tr>\n",
       "    <tr>\n",
       "      <th>5</th>\n",
       "      <td>MaxEnt Classifier on pos-tagged text</td>\n",
       "      <td>GridSearchCV(cv=ShuffleSplit(n_splits=5, rando...</td>\n",
       "      <td>0.929545</td>\n",
       "    </tr>\n",
       "  </tbody>\n",
       "</table>\n",
       "</div>"
      ],
      "text/plain": [
       "                             model_name  ...                              score\n",
       "0     <class 'sklearn.svm.classes.SVC'>  ...  <class 'sklearn.svm.classes.SVC'>\n",
       "1        Baseline Model 2: Naiive Bayes  ...                           0.894697\n",
       "2   Baseline Model 3: MaxEnt Classifier  ...                           0.923485\n",
       "3                SVC on pos-tagged text  ...                           0.915909\n",
       "4       Naiive Bayes on pos-tagged text  ...                           0.897727\n",
       "5  MaxEnt Classifier on pos-tagged text  ...                           0.929545\n",
       "\n",
       "[6 rows x 3 columns]"
      ]
     },
     "execution_count": 50,
     "metadata": {
      "tags": []
     },
     "output_type": "execute_result"
    }
   ],
   "source": [
    "models"
   ]
  },
  {
   "cell_type": "code",
   "execution_count": null,
   "metadata": {
    "colab": {},
    "colab_type": "code",
    "id": "FFqIr-Fc63RY"
   },
   "outputs": [],
   "source": [
    "df[\"clean_and_pos_tagged_text\"] = df['preprocessed_text'] + ' ' + df['pos_tagged_text']"
   ]
  },
  {
   "cell_type": "code",
   "execution_count": 52,
   "metadata": {
    "colab": {
     "base_uri": "https://localhost:8080/",
     "height": 95
    },
    "colab_type": "code",
    "executionInfo": {
     "elapsed": 1029,
     "status": "ok",
     "timestamp": 1576504944241,
     "user": {
      "displayName": "Chayma Bouzaidi",
      "photoUrl": "",
      "userId": "01302878369314211342"
     },
     "user_tz": -60
    },
    "id": "X04jjFpH63Rd",
    "outputId": "5156e4ca-aba7-4ecc-e8c0-e07de9436505"
   },
   "outputs": [
    {
     "data": {
      "text/html": [
       "<div>\n",
       "<style scoped>\n",
       "    .dataframe tbody tr th:only-of-type {\n",
       "        vertical-align: middle;\n",
       "    }\n",
       "\n",
       "    .dataframe tbody tr th {\n",
       "        vertical-align: top;\n",
       "    }\n",
       "\n",
       "    .dataframe thead th {\n",
       "        text-align: right;\n",
       "    }\n",
       "</style>\n",
       "<table border=\"1\" class=\"dataframe\">\n",
       "  <thead>\n",
       "    <tr style=\"text-align: right;\">\n",
       "      <th></th>\n",
       "      <th>ID</th>\n",
       "      <th>title</th>\n",
       "      <th>text</th>\n",
       "      <th>label</th>\n",
       "      <th>title_and_text</th>\n",
       "      <th>preprocessed_text</th>\n",
       "      <th>pos_tagged_text</th>\n",
       "      <th>clean_and_pos_tagged_text</th>\n",
       "    </tr>\n",
       "  </thead>\n",
       "  <tbody>\n",
       "    <tr>\n",
       "      <th>0</th>\n",
       "      <td>8476</td>\n",
       "      <td>You Can Smell Hillary’s Fear</td>\n",
       "      <td>Daniel Greenfield | a Shillman Journalism Fell...</td>\n",
       "      <td>FAKE</td>\n",
       "      <td>You Can Smell Hillary’s Fear Daniel Greenfield...</td>\n",
       "      <td>smell hillary’s fear daniel greenfield shillma...</td>\n",
       "      <td>NN-smell JJ-hillary NNP-’ NN-s NN-fear JJ-dani...</td>\n",
       "      <td>smell hillary’s fear daniel greenfield shillma...</td>\n",
       "    </tr>\n",
       "  </tbody>\n",
       "</table>\n",
       "</div>"
      ],
      "text/plain": [
       "     ID  ...                          clean_and_pos_tagged_text\n",
       "0  8476  ...  smell hillary’s fear daniel greenfield shillma...\n",
       "\n",
       "[1 rows x 8 columns]"
      ]
     },
     "execution_count": 52,
     "metadata": {
      "tags": []
     },
     "output_type": "execute_result"
    }
   ],
   "source": [
    "df.head(1)"
   ]
  },
  {
   "cell_type": "code",
   "execution_count": null,
   "metadata": {
    "colab": {},
    "colab_type": "code",
    "id": "atMA3P-j63Rk"
   },
   "outputs": [],
   "source": [
    "encoder, train, test, train_cv, train_holdout, train_cv_label, train_holdout_label = split_train_holdout_test(encoder, df, False)\n",
    "\n",
    "count_vect = CountVectorizer(analyzer = \"word\")\n",
    "\n",
    "count_vectorizer = count_vect.fit(df.clean_and_pos_tagged_text)\n",
    "\n",
    "train_cv_vector = count_vectorizer.transform(train_cv.clean_and_pos_tagged_text)\n",
    "train_holdout_vector = count_vectorizer.transform(train_holdout.clean_and_pos_tagged_text)\n",
    "test_vector = count_vectorizer.transform(test.clean_and_pos_tagged_text)\n",
    "\n",
    "\n",
    "tf_idf = TfidfTransformer(norm=\"l2\")\n",
    "train_cv_tf_idf = tf_idf.fit_transform(train_cv_vector)\n",
    "train_holdout_tf_idf = tf_idf.fit_transform(train_holdout_vector)\n",
    "test_tf_idf = tf_idf.fit_transform(test_vector)  "
   ]
  },
  {
   "cell_type": "code",
   "execution_count": 54,
   "metadata": {
    "colab": {
     "base_uri": "https://localhost:8080/",
     "height": 952
    },
    "colab_type": "code",
    "executionInfo": {
     "elapsed": 496407,
     "status": "ok",
     "timestamp": 1576505590594,
     "user": {
      "displayName": "Chayma Bouzaidi",
      "photoUrl": "",
      "userId": "01302878369314211342"
     },
     "user_tz": -60
    },
    "id": "CgOGyOkl63Ro",
    "outputId": "f55f5e0a-6b48-41c2-f67d-e4d35f794804"
   },
   "outputs": [
    {
     "name": "stdout",
     "output_type": "stream",
     "text": [
      "\u001b[31mSVC on preprocessed+pos-tagged TF-IDF weighted text\u001b[0m\n",
      "\u001b[33mGridSearchCV(cv=ShuffleSplit(n_splits=5, random_state=12345, test_size=0.2, train_size=None),\n",
      "             error_score='raise-deprecating',\n",
      "             estimator=SVC(C=1.0, cache_size=200, class_weight=None, coef0=0.0,\n",
      "                           decision_function_shape='ovr', degree=3,\n",
      "                           gamma='auto_deprecated', kernel='rbf', max_iter=-1,\n",
      "                           probability=False, random_state=None, shrinking=True,\n",
      "                           tol=0.001, verbose=False),\n",
      "             iid='warn', n_jobs=None,\n",
      "             param_grid=[{'C': [1, 10, 50, 100], 'kernel': ['linear']},\n",
      "                         {'C': [10, 100, 500, 1000], 'gamma': [0.0001],\n",
      "                          'kernel': ['rbf']}],\n",
      "             pre_dispatch='2*n_jobs', refit=True, return_train_score=False,\n",
      "             scoring=None, verbose=0)\u001b[0m\n",
      "\u001b[34m\n",
      "CV-scores\u001b[0m\n",
      "Accuracy: 0.937 (+/-0.026) for params: {'C': 50, 'kernel': 'linear'}\n",
      "Accuracy: 0.937 (+/-0.026) for params: {'C': 100, 'kernel': 'linear'}\n",
      "Accuracy: 0.937 (+/-0.024) for params: {'C': 10, 'kernel': 'linear'}\n",
      "Accuracy: 0.935 (+/-0.020) for params: {'C': 1, 'kernel': 'linear'}\n",
      "Accuracy: 0.895 (+/-0.008) for params: {'C': 1000, 'gamma': 0.0001, 'kernel': 'rbf'}\n",
      "Accuracy: 0.859 (+/-0.016) for params: {'C': 500, 'gamma': 0.0001, 'kernel': 'rbf'}\n",
      "Accuracy: 0.590 (+/-0.139) for params: {'C': 100, 'gamma': 0.0001, 'kernel': 'rbf'}\n",
      "Accuracy: 0.481 (+/-0.027) for params: {'C': 10, 'gamma': 0.0001, 'kernel': 'rbf'}\n",
      "\n",
      "\u001b[34m\n",
      "Best Estimator Params\u001b[0m\n",
      "\u001b[33mSVC(C=50, cache_size=200, class_weight=None, coef0=0.0,\n",
      "    decision_function_shape='ovr', degree=3, gamma='auto_deprecated',\n",
      "    kernel='linear', max_iter=-1, probability=False, random_state=None,\n",
      "    shrinking=True, tol=0.001, verbose=False)\u001b[0m\n",
      "\u001b[34m\n",
      "Predictions:\u001b[0m\n",
      "['REAL' 'REAL' 'FAKE' ... 'REAL' 'FAKE' 'REAL']\n"
     ]
    },
    {
     "data": {
      "image/png": "[encoded data removed]",
      "text/plain": [
       "<Figure size 396x288 with 2 Axes>"
      ]
     },
     "metadata": {
      "tags": []
     },
     "output_type": "display_data"
    },
    {
     "name": "stdout",
     "output_type": "stream",
     "text": [
      "\u001b[34m\n",
      "Accuracy:\u001b[0m\n",
      "\u001b[32m0.9454545454545454\u001b[0m\n"
     ]
    }
   ],
   "source": [
    "SVC_tf_idf = runModel(encoder,\n",
    "               train_cv_tf_idf,\n",
    "               train_cv_label,\n",
    "               train_holdout_tf_idf,\n",
    "               train_holdout.label,\n",
    "               \"svc\",\n",
    "               \"SVC on preprocessed+pos-tagged TF-IDF weighted text\")\n",
    "models.loc[len(models)] = SVC_tf_idf"
   ]
  },
  {
   "cell_type": "code",
   "execution_count": 55,
   "metadata": {
    "colab": {
     "base_uri": "https://localhost:8080/",
     "height": 643
    },
    "colab_type": "code",
    "executionInfo": {
     "elapsed": 1083,
     "status": "ok",
     "timestamp": 1576505610611,
     "user": {
      "displayName": "Chayma Bouzaidi",
      "photoUrl": "",
      "userId": "01302878369314211342"
     },
     "user_tz": -60
    },
    "id": "nLWChqYY63Ry",
    "outputId": "ee56fee1-89b8-4db9-955f-f0fc0badc712"
   },
   "outputs": [
    {
     "name": "stdout",
     "output_type": "stream",
     "text": [
      "\u001b[31mNaiive Bayes on preprocessed+pos-tagged TF-IDF weighted text\u001b[0m\n",
      "\u001b[33mGridSearchCV(cv=ShuffleSplit(n_splits=5, random_state=12345, test_size=0.2, train_size=None),\n",
      "             error_score='raise-deprecating',\n",
      "             estimator=MultinomialNB(alpha=1.0, class_prior=None,\n",
      "                                     fit_prior=True),\n",
      "             iid='warn', n_jobs=None, param_grid={}, pre_dispatch='2*n_jobs',\n",
      "             refit=True, return_train_score=False, scoring=None, verbose=0)\u001b[0m\n",
      "\u001b[34m\n",
      "CV-scores\u001b[0m\n",
      "Accuracy: 0.781 (+/-0.039) for params: {}\n",
      "\n",
      "\u001b[34m\n",
      "Best Estimator Params\u001b[0m\n",
      "\u001b[33mMultinomialNB(alpha=1.0, class_prior=None, fit_prior=True)\u001b[0m\n",
      "\u001b[34m\n",
      "Predictions:\u001b[0m\n",
      "['REAL' 'REAL' 'REAL' ... 'REAL' 'REAL' 'REAL']\n"
     ]
    },
    {
     "data": {
      "image/png": "[encoded data removed]",
      "text/plain": [
       "<Figure size 396x288 with 2 Axes>"
      ]
     },
     "metadata": {
      "tags": []
     },
     "output_type": "display_data"
    },
    {
     "name": "stdout",
     "output_type": "stream",
     "text": [
      "\u001b[34m\n",
      "Accuracy:\u001b[0m\n",
      "\u001b[32m0.8166666666666667\u001b[0m\n"
     ]
    }
   ],
   "source": [
    "NB_tf_idf = runModel(encoder,\n",
    "               train_cv_tf_idf,\n",
    "               train_cv_label,\n",
    "               train_holdout_tf_idf,\n",
    "               train_holdout.label,\n",
    "              \"nb\",\n",
    "              \"Naiive Bayes on preprocessed+pos-tagged TF-IDF weighted text\")\n",
    "models.loc[len(models)] = NB_tf_idf"
   ]
  },
  {
   "cell_type": "code",
   "execution_count": 56,
   "metadata": {
    "colab": {
     "base_uri": "https://localhost:8080/",
     "height": 1000
    },
    "colab_type": "code",
    "executionInfo": {
     "elapsed": 11556,
     "status": "ok",
     "timestamp": 1576505624154,
     "user": {
      "displayName": "Chayma Bouzaidi",
      "photoUrl": "",
      "userId": "01302878369314211342"
     },
     "user_tz": -60
    },
    "id": "wbQtJZ6H63R4",
    "outputId": "f42010bf-f5e5-4a40-b846-cd540314d51d"
   },
   "outputs": [
    {
     "name": "stdout",
     "output_type": "stream",
     "text": [
      "\u001b[31mMaxEnt on preprocessed+pos-tagged TF-IDF weighted text\u001b[0m\n",
      "\u001b[33mGridSearchCV(cv=ShuffleSplit(n_splits=5, random_state=12345, test_size=0.2, train_size=None),\n",
      "             error_score='raise-deprecating',\n",
      "             estimator=LogisticRegression(C=1.0, class_weight=None, dual=False,\n",
      "                                          fit_intercept=True,\n",
      "                                          intercept_scaling=1, l1_ratio=None,\n",
      "                                          max_iter=100, multi_class='warn',\n",
      "                                          n_jobs=None, penalty='l2',\n",
      "                                          random_state=None, solver='warn',\n",
      "                                          tol=0.0001, verbose=0,\n",
      "                                          warm_start=False),\n",
      "             iid='warn', n_jobs=None,\n",
      "             param_grid={'C': [0.001, 0.01, 0.1, 1, 10, 100, 1000],\n",
      "                         'penalty': ['l1', 'l2']},\n",
      "             pre_dispatch='2*n_jobs', refit=True, return_train_score=False,\n",
      "             scoring=None, verbose=0)\u001b[0m\n",
      "\u001b[34m\n",
      "CV-scores\u001b[0m\n",
      "Accuracy: 0.943 (+/-0.030) for params: {'C': 1000, 'penalty': 'l2'}\n",
      "Accuracy: 0.939 (+/-0.018) for params: {'C': 10, 'penalty': 'l1'}\n",
      "Accuracy: 0.939 (+/-0.026) for params: {'C': 100, 'penalty': 'l2'}\n",
      "Accuracy: 0.938 (+/-0.024) for params: {'C': 1000, 'penalty': 'l1'}\n",
      "Accuracy: 0.937 (+/-0.024) for params: {'C': 100, 'penalty': 'l1'}\n",
      "Accuracy: 0.932 (+/-0.021) for params: {'C': 10, 'penalty': 'l2'}\n",
      "Accuracy: 0.909 (+/-0.007) for params: {'C': 1, 'penalty': 'l2'}\n",
      "Accuracy: 0.890 (+/-0.017) for params: {'C': 1, 'penalty': 'l1'}\n",
      "Accuracy: 0.842 (+/-0.026) for params: {'C': 0.1, 'penalty': 'l2'}\n",
      "Accuracy: 0.724 (+/-0.101) for params: {'C': 0.01, 'penalty': 'l2'}\n",
      "Accuracy: 0.662 (+/-0.041) for params: {'C': 0.1, 'penalty': 'l1'}\n",
      "Accuracy: 0.550 (+/-0.244) for params: {'C': 0.001, 'penalty': 'l2'}\n",
      "Accuracy: 0.514 (+/-0.036) for params: {'C': 0.001, 'penalty': 'l1'}\n",
      "Accuracy: 0.514 (+/-0.036) for params: {'C': 0.01, 'penalty': 'l1'}\n",
      "\n",
      "\u001b[34m\n",
      "Best Estimator Params\u001b[0m\n",
      "\u001b[33mLogisticRegression(C=1000, class_weight=None, dual=False, fit_intercept=True,\n",
      "                   intercept_scaling=1, l1_ratio=None, max_iter=100,\n",
      "                   multi_class='warn', n_jobs=None, penalty='l2',\n",
      "                   random_state=None, solver='warn', tol=0.0001, verbose=0,\n",
      "                   warm_start=False)\u001b[0m\n",
      "\u001b[34m\n",
      "Predictions:\u001b[0m\n",
      "['REAL' 'REAL' 'FAKE' ... 'REAL' 'FAKE' 'REAL']\n"
     ]
    },
    {
     "data": {
      "image/png": "[encoded data removed]",
      "text/plain": [
       "<Figure size 396x288 with 2 Axes>"
      ]
     },
     "metadata": {
      "tags": []
     },
     "output_type": "display_data"
    },
    {
     "name": "stdout",
     "output_type": "stream",
     "text": [
      "\u001b[34m\n",
      "Accuracy:\u001b[0m\n",
      "\u001b[32m0.9431818181818182\u001b[0m\n"
     ]
    }
   ],
   "source": [
    "maxEnt_tf_idf = runModel(encoder,\n",
    "               train_cv_tf_idf,\n",
    "               train_cv_label,\n",
    "               train_holdout_tf_idf,\n",
    "               train_holdout.label,\n",
    "              \"maxEnt\",\n",
    "              \"MaxEnt on preprocessed+pos-tagged TF-IDF weighted text\")\n",
    "models.loc[len(models)] = maxEnt_tf_idf"
   ]
  },
  {
   "cell_type": "code",
   "execution_count": 57,
   "metadata": {
    "colab": {
     "base_uri": "https://localhost:8080/",
     "height": 318
    },
    "colab_type": "code",
    "executionInfo": {
     "elapsed": 905,
     "status": "ok",
     "timestamp": 1576505646830,
     "user": {
      "displayName": "Chayma Bouzaidi",
      "photoUrl": "",
      "userId": "01302878369314211342"
     },
     "user_tz": -60
    },
    "id": "6DQTNph163SE",
    "outputId": "04e6f88e-fc03-41fa-c542-f019347ddc52"
   },
   "outputs": [
    {
     "data": {
      "text/html": [
       "<div>\n",
       "<style scoped>\n",
       "    .dataframe tbody tr th:only-of-type {\n",
       "        vertical-align: middle;\n",
       "    }\n",
       "\n",
       "    .dataframe tbody tr th {\n",
       "        vertical-align: top;\n",
       "    }\n",
       "\n",
       "    .dataframe thead th {\n",
       "        text-align: right;\n",
       "    }\n",
       "</style>\n",
       "<table border=\"1\" class=\"dataframe\">\n",
       "  <thead>\n",
       "    <tr style=\"text-align: right;\">\n",
       "      <th></th>\n",
       "      <th>model_name</th>\n",
       "      <th>model_object</th>\n",
       "      <th>score</th>\n",
       "    </tr>\n",
       "  </thead>\n",
       "  <tbody>\n",
       "    <tr>\n",
       "      <th>0</th>\n",
       "      <td>&lt;class 'sklearn.svm.classes.SVC'&gt;</td>\n",
       "      <td>&lt;class 'sklearn.svm.classes.SVC'&gt;</td>\n",
       "      <td>&lt;class 'sklearn.svm.classes.SVC'&gt;</td>\n",
       "    </tr>\n",
       "    <tr>\n",
       "      <th>1</th>\n",
       "      <td>Baseline Model 2: Naiive Bayes</td>\n",
       "      <td>GridSearchCV(cv=ShuffleSplit(n_splits=5, rando...</td>\n",
       "      <td>0.894697</td>\n",
       "    </tr>\n",
       "    <tr>\n",
       "      <th>2</th>\n",
       "      <td>Baseline Model 3: MaxEnt Classifier</td>\n",
       "      <td>GridSearchCV(cv=ShuffleSplit(n_splits=5, rando...</td>\n",
       "      <td>0.923485</td>\n",
       "    </tr>\n",
       "    <tr>\n",
       "      <th>3</th>\n",
       "      <td>SVC on pos-tagged text</td>\n",
       "      <td>GridSearchCV(cv=ShuffleSplit(n_splits=5, rando...</td>\n",
       "      <td>0.915909</td>\n",
       "    </tr>\n",
       "    <tr>\n",
       "      <th>4</th>\n",
       "      <td>Naiive Bayes on pos-tagged text</td>\n",
       "      <td>GridSearchCV(cv=ShuffleSplit(n_splits=5, rando...</td>\n",
       "      <td>0.897727</td>\n",
       "    </tr>\n",
       "    <tr>\n",
       "      <th>5</th>\n",
       "      <td>MaxEnt Classifier on pos-tagged text</td>\n",
       "      <td>GridSearchCV(cv=ShuffleSplit(n_splits=5, rando...</td>\n",
       "      <td>0.929545</td>\n",
       "    </tr>\n",
       "    <tr>\n",
       "      <th>6</th>\n",
       "      <td>SVC on preprocessed+pos-tagged TF-IDF weighted...</td>\n",
       "      <td>GridSearchCV(cv=ShuffleSplit(n_splits=5, rando...</td>\n",
       "      <td>0.945455</td>\n",
       "    </tr>\n",
       "    <tr>\n",
       "      <th>7</th>\n",
       "      <td>Naiive Bayes on preprocessed+pos-tagged TF-IDF...</td>\n",
       "      <td>GridSearchCV(cv=ShuffleSplit(n_splits=5, rando...</td>\n",
       "      <td>0.816667</td>\n",
       "    </tr>\n",
       "    <tr>\n",
       "      <th>8</th>\n",
       "      <td>MaxEnt on preprocessed+pos-tagged TF-IDF weigh...</td>\n",
       "      <td>GridSearchCV(cv=ShuffleSplit(n_splits=5, rando...</td>\n",
       "      <td>0.943182</td>\n",
       "    </tr>\n",
       "  </tbody>\n",
       "</table>\n",
       "</div>"
      ],
      "text/plain": [
       "                                          model_name  ...                              score\n",
       "0                  <class 'sklearn.svm.classes.SVC'>  ...  <class 'sklearn.svm.classes.SVC'>\n",
       "1                     Baseline Model 2: Naiive Bayes  ...                           0.894697\n",
       "2                Baseline Model 3: MaxEnt Classifier  ...                           0.923485\n",
       "3                             SVC on pos-tagged text  ...                           0.915909\n",
       "4                    Naiive Bayes on pos-tagged text  ...                           0.897727\n",
       "5               MaxEnt Classifier on pos-tagged text  ...                           0.929545\n",
       "6  SVC on preprocessed+pos-tagged TF-IDF weighted...  ...                           0.945455\n",
       "7  Naiive Bayes on preprocessed+pos-tagged TF-IDF...  ...                           0.816667\n",
       "8  MaxEnt on preprocessed+pos-tagged TF-IDF weigh...  ...                           0.943182\n",
       "\n",
       "[9 rows x 3 columns]"
      ]
     },
     "execution_count": 57,
     "metadata": {
      "tags": []
     },
     "output_type": "execute_result"
    }
   ],
   "source": [
    "models"
   ]
  },
  {
   "cell_type": "code",
   "execution_count": null,
   "metadata": {
    "colab": {},
    "colab_type": "code",
    "id": "dZ8E2jWt63SI"
   },
   "outputs": [],
   "source": [
    "encoder, train, test, train_cv, train_holdout, train_cv_label, train_holdout_label = split_train_holdout_test(encoder, df, False)\n",
    "\n",
    "trigram_vect = CountVectorizer(analyzer = \"word\", ngram_range=(1,2))\n",
    "\n",
    "trigram_vect = count_vect.fit(df.clean_and_pos_tagged_text)\n",
    "\n",
    "train_cv_vector = trigram_vect.transform(train_cv.clean_and_pos_tagged_text)\n",
    "train_holdout_vector = trigram_vect.transform(train_holdout.clean_and_pos_tagged_text)\n",
    "test_vector = trigram_vect.transform(test.clean_and_pos_tagged_text)"
   ]
  },
  {
   "cell_type": "code",
   "execution_count": null,
   "metadata": {
    "colab": {},
    "colab_type": "code",
    "id": "iz2fqaZF63SO"
   },
   "outputs": [],
   "source": [
    "tf_idf = TfidfTransformer(norm=\"l2\")\n",
    "train_cv_bigram_tf_idf = tf_idf.fit_transform(train_cv_vector)\n",
    "train_holdout_bigram_tf_idf = tf_idf.fit_transform(train_holdout_vector)\n",
    "test_bigram_tf_idf = tf_idf.fit_transform(test_vector)"
   ]
  },
  {
   "cell_type": "code",
   "execution_count": 60,
   "metadata": {
    "colab": {
     "base_uri": "https://localhost:8080/",
     "height": 952
    },
    "colab_type": "code",
    "executionInfo": {
     "elapsed": 498391,
     "status": "ok",
     "timestamp": 1576506159108,
     "user": {
      "displayName": "Chayma Bouzaidi",
      "photoUrl": "",
      "userId": "01302878369314211342"
     },
     "user_tz": -60
    },
    "id": "9y81qZtJ63SU",
    "outputId": "9a9cc004-ddc7-4aa7-9106-a9167f10317c"
   },
   "outputs": [
    {
     "name": "stdout",
     "output_type": "stream",
     "text": [
      "\u001b[31mSVC on bigram vect.+ TF-IDF\u001b[0m\n",
      "\u001b[33mGridSearchCV(cv=ShuffleSplit(n_splits=5, random_state=12345, test_size=0.2, train_size=None),\n",
      "             error_score='raise-deprecating',\n",
      "             estimator=SVC(C=1.0, cache_size=200, class_weight=None, coef0=0.0,\n",
      "                           decision_function_shape='ovr', degree=3,\n",
      "                           gamma='auto_deprecated', kernel='rbf', max_iter=-1,\n",
      "                           probability=False, random_state=None, shrinking=True,\n",
      "                           tol=0.001, verbose=False),\n",
      "             iid='warn', n_jobs=None,\n",
      "             param_grid=[{'C': [1, 10, 50, 100], 'kernel': ['linear']},\n",
      "                         {'C': [10, 100, 500, 1000], 'gamma': [0.0001],\n",
      "                          'kernel': ['rbf']}],\n",
      "             pre_dispatch='2*n_jobs', refit=True, return_train_score=False,\n",
      "             scoring=None, verbose=0)\u001b[0m\n",
      "\u001b[34m\n",
      "CV-scores\u001b[0m\n",
      "Accuracy: 0.937 (+/-0.026) for params: {'C': 50, 'kernel': 'linear'}\n",
      "Accuracy: 0.937 (+/-0.026) for params: {'C': 100, 'kernel': 'linear'}\n",
      "Accuracy: 0.937 (+/-0.024) for params: {'C': 10, 'kernel': 'linear'}\n",
      "Accuracy: 0.935 (+/-0.020) for params: {'C': 1, 'kernel': 'linear'}\n",
      "Accuracy: 0.895 (+/-0.008) for params: {'C': 1000, 'gamma': 0.0001, 'kernel': 'rbf'}\n",
      "Accuracy: 0.859 (+/-0.016) for params: {'C': 500, 'gamma': 0.0001, 'kernel': 'rbf'}\n",
      "Accuracy: 0.590 (+/-0.139) for params: {'C': 100, 'gamma': 0.0001, 'kernel': 'rbf'}\n",
      "Accuracy: 0.481 (+/-0.027) for params: {'C': 10, 'gamma': 0.0001, 'kernel': 'rbf'}\n",
      "\n",
      "\u001b[34m\n",
      "Best Estimator Params\u001b[0m\n",
      "\u001b[33mSVC(C=50, cache_size=200, class_weight=None, coef0=0.0,\n",
      "    decision_function_shape='ovr', degree=3, gamma='auto_deprecated',\n",
      "    kernel='linear', max_iter=-1, probability=False, random_state=None,\n",
      "    shrinking=True, tol=0.001, verbose=False)\u001b[0m\n",
      "\u001b[34m\n",
      "Predictions:\u001b[0m\n",
      "['REAL' 'REAL' 'FAKE' ... 'REAL' 'FAKE' 'REAL']\n"
     ]
    },
    {
     "data": {
      "image/png": "[encoded data removed]",
      "text/plain": [
       "<Figure size 396x288 with 2 Axes>"
      ]
     },
     "metadata": {
      "tags": []
     },
     "output_type": "display_data"
    },
    {
     "name": "stdout",
     "output_type": "stream",
     "text": [
      "\u001b[34m\n",
      "Accuracy:\u001b[0m\n",
      "\u001b[32m0.9454545454545454\u001b[0m\n"
     ]
    }
   ],
   "source": [
    "SVC_trigram_tf_idf = runModel(encoder,\n",
    "               train_cv_bigram_tf_idf,\n",
    "               train_cv_label,\n",
    "               train_holdout_bigram_tf_idf,\n",
    "               train_holdout.label,\n",
    "               \"svc\",\n",
    "               \"SVC on bigram vect.+ TF-IDF\")\n",
    "models.loc[len(models)] = SVC_trigram_tf_idf"
   ]
  },
  {
   "cell_type": "code",
   "execution_count": null,
   "metadata": {
    "colab": {},
    "colab_type": "code",
    "id": "rsRX6s8d63SZ"
   },
   "outputs": [],
   "source": [
    "encoder, train, test, train_cv, train_holdout, train_cv_label, train_holdout_label = split_train_holdout_test(encoder, df, False)\n",
    "\n",
    "trigram_vect = CountVectorizer(analyzer = \"word\", ngram_range=(1,3))\n",
    "\n",
    "trigram_vect = count_vect.fit(df.clean_and_pos_tagged_text)\n",
    "\n",
    "train_cv_vector = trigram_vect.transform(train_cv.clean_and_pos_tagged_text)\n",
    "train_holdout_vector = trigram_vect.transform(train_holdout.clean_and_pos_tagged_text)"
   ]
  },
  {
   "cell_type": "code",
   "execution_count": null,
   "metadata": {
    "colab": {},
    "colab_type": "code",
    "id": "qJcxb-nY63Sg"
   },
   "outputs": [],
   "source": [
    "tf_idf = TfidfTransformer(norm=\"l2\")\n",
    "train_cv_trigram_tf_idf = tf_idf.fit_transform(train_cv_vector)\n",
    "train_holdout_trigram_tf_idf = tf_idf.fit_transform(train_holdout_vector)"
   ]
  },
  {
   "cell_type": "code",
   "execution_count": 63,
   "metadata": {
    "colab": {
     "base_uri": "https://localhost:8080/",
     "height": 1000
    },
    "colab_type": "code",
    "executionInfo": {
     "elapsed": 11748,
     "status": "ok",
     "timestamp": 1576506224939,
     "user": {
      "displayName": "Chayma Bouzaidi",
      "photoUrl": "",
      "userId": "01302878369314211342"
     },
     "user_tz": -60
    },
    "id": "ptOJtW2b63Sn",
    "outputId": "aff9fc1a-2154-4b35-a3d2-fa1e921f0951"
   },
   "outputs": [
    {
     "name": "stdout",
     "output_type": "stream",
     "text": [
      "\u001b[31mMaxEnt on trigram vect.+ TF-IDF\u001b[0m\n",
      "\u001b[33mGridSearchCV(cv=ShuffleSplit(n_splits=5, random_state=12345, test_size=0.2, train_size=None),\n",
      "             error_score='raise-deprecating',\n",
      "             estimator=LogisticRegression(C=1.0, class_weight=None, dual=False,\n",
      "                                          fit_intercept=True,\n",
      "                                          intercept_scaling=1, l1_ratio=None,\n",
      "                                          max_iter=100, multi_class='warn',\n",
      "                                          n_jobs=None, penalty='l2',\n",
      "                                          random_state=None, solver='warn',\n",
      "                                          tol=0.0001, verbose=0,\n",
      "                                          warm_start=False),\n",
      "             iid='warn', n_jobs=None,\n",
      "             param_grid={'C': [0.001, 0.01, 0.1, 1, 10, 100, 1000],\n",
      "                         'penalty': ['l1', 'l2']},\n",
      "             pre_dispatch='2*n_jobs', refit=True, return_train_score=False,\n",
      "             scoring=None, verbose=0)\u001b[0m\n",
      "\u001b[34m\n",
      "CV-scores\u001b[0m\n",
      "Accuracy: 0.943 (+/-0.030) for params: {'C': 1000, 'penalty': 'l2'}\n",
      "Accuracy: 0.939 (+/-0.018) for params: {'C': 10, 'penalty': 'l1'}\n",
      "Accuracy: 0.939 (+/-0.026) for params: {'C': 100, 'penalty': 'l2'}\n",
      "Accuracy: 0.937 (+/-0.024) for params: {'C': 100, 'penalty': 'l1'}\n",
      "Accuracy: 0.937 (+/-0.027) for params: {'C': 1000, 'penalty': 'l1'}\n",
      "Accuracy: 0.932 (+/-0.021) for params: {'C': 10, 'penalty': 'l2'}\n",
      "Accuracy: 0.909 (+/-0.007) for params: {'C': 1, 'penalty': 'l2'}\n",
      "Accuracy: 0.890 (+/-0.017) for params: {'C': 1, 'penalty': 'l1'}\n",
      "Accuracy: 0.842 (+/-0.026) for params: {'C': 0.1, 'penalty': 'l2'}\n",
      "Accuracy: 0.724 (+/-0.101) for params: {'C': 0.01, 'penalty': 'l2'}\n",
      "Accuracy: 0.662 (+/-0.041) for params: {'C': 0.1, 'penalty': 'l1'}\n",
      "Accuracy: 0.550 (+/-0.244) for params: {'C': 0.001, 'penalty': 'l2'}\n",
      "Accuracy: 0.514 (+/-0.036) for params: {'C': 0.001, 'penalty': 'l1'}\n",
      "Accuracy: 0.514 (+/-0.036) for params: {'C': 0.01, 'penalty': 'l1'}\n",
      "\n",
      "\u001b[34m\n",
      "Best Estimator Params\u001b[0m\n",
      "\u001b[33mLogisticRegression(C=1000, class_weight=None, dual=False, fit_intercept=True,\n",
      "                   intercept_scaling=1, l1_ratio=None, max_iter=100,\n",
      "                   multi_class='warn', n_jobs=None, penalty='l2',\n",
      "                   random_state=None, solver='warn', tol=0.0001, verbose=0,\n",
      "                   warm_start=False)\u001b[0m\n",
      "\u001b[34m\n",
      "Predictions:\u001b[0m\n",
      "['REAL' 'REAL' 'FAKE' ... 'REAL' 'FAKE' 'REAL']\n"
     ]
    },
    {
     "data": {
      "image/png": "[encoded data removed]",
      "text/plain": [
       "<Figure size 396x288 with 2 Axes>"
      ]
     },
     "metadata": {
      "tags": []
     },
     "output_type": "display_data"
    },
    {
     "name": "stdout",
     "output_type": "stream",
     "text": [
      "\u001b[34m\n",
      "Accuracy:\u001b[0m\n",
      "\u001b[32m0.9431818181818182\u001b[0m\n"
     ]
    }
   ],
   "source": [
    "maxEnt_tf_idf = runModel(encoder,\n",
    "               train_cv_trigram_tf_idf,\n",
    "               train_cv_label,\n",
    "               train_holdout_trigram_tf_idf,\n",
    "               train_holdout.label,\n",
    "              \"maxEnt\",\n",
    "              \"MaxEnt on trigram vect.+ TF-IDF\")\n",
    "models.loc[len(models)] = maxEnt_tf_idf"
   ]
  },
  {
   "cell_type": "code",
   "execution_count": 64,
   "metadata": {
    "colab": {
     "base_uri": "https://localhost:8080/",
     "height": 378
    },
    "colab_type": "code",
    "executionInfo": {
     "elapsed": 863,
     "status": "ok",
     "timestamp": 1576506304537,
     "user": {
      "displayName": "Chayma Bouzaidi",
      "photoUrl": "",
      "userId": "01302878369314211342"
     },
     "user_tz": -60
    },
    "id": "6JbXzQFY63S3",
    "outputId": "57bec580-37a6-4363-f885-a0abfacb3291"
   },
   "outputs": [
    {
     "data": {
      "text/html": [
       "<div>\n",
       "<style scoped>\n",
       "    .dataframe tbody tr th:only-of-type {\n",
       "        vertical-align: middle;\n",
       "    }\n",
       "\n",
       "    .dataframe tbody tr th {\n",
       "        vertical-align: top;\n",
       "    }\n",
       "\n",
       "    .dataframe thead th {\n",
       "        text-align: right;\n",
       "    }\n",
       "</style>\n",
       "<table border=\"1\" class=\"dataframe\">\n",
       "  <thead>\n",
       "    <tr style=\"text-align: right;\">\n",
       "      <th></th>\n",
       "      <th>model_name</th>\n",
       "      <th>model_object</th>\n",
       "      <th>score</th>\n",
       "    </tr>\n",
       "  </thead>\n",
       "  <tbody>\n",
       "    <tr>\n",
       "      <th>0</th>\n",
       "      <td>&lt;class 'sklearn.svm.classes.SVC'&gt;</td>\n",
       "      <td>&lt;class 'sklearn.svm.classes.SVC'&gt;</td>\n",
       "      <td>&lt;class 'sklearn.svm.classes.SVC'&gt;</td>\n",
       "    </tr>\n",
       "    <tr>\n",
       "      <th>1</th>\n",
       "      <td>Baseline Model 2: Naiive Bayes</td>\n",
       "      <td>GridSearchCV(cv=ShuffleSplit(n_splits=5, rando...</td>\n",
       "      <td>0.894697</td>\n",
       "    </tr>\n",
       "    <tr>\n",
       "      <th>2</th>\n",
       "      <td>Baseline Model 3: MaxEnt Classifier</td>\n",
       "      <td>GridSearchCV(cv=ShuffleSplit(n_splits=5, rando...</td>\n",
       "      <td>0.923485</td>\n",
       "    </tr>\n",
       "    <tr>\n",
       "      <th>3</th>\n",
       "      <td>SVC on pos-tagged text</td>\n",
       "      <td>GridSearchCV(cv=ShuffleSplit(n_splits=5, rando...</td>\n",
       "      <td>0.915909</td>\n",
       "    </tr>\n",
       "    <tr>\n",
       "      <th>4</th>\n",
       "      <td>Naiive Bayes on pos-tagged text</td>\n",
       "      <td>GridSearchCV(cv=ShuffleSplit(n_splits=5, rando...</td>\n",
       "      <td>0.897727</td>\n",
       "    </tr>\n",
       "    <tr>\n",
       "      <th>5</th>\n",
       "      <td>MaxEnt Classifier on pos-tagged text</td>\n",
       "      <td>GridSearchCV(cv=ShuffleSplit(n_splits=5, rando...</td>\n",
       "      <td>0.929545</td>\n",
       "    </tr>\n",
       "    <tr>\n",
       "      <th>6</th>\n",
       "      <td>SVC on preprocessed+pos-tagged TF-IDF weighted...</td>\n",
       "      <td>GridSearchCV(cv=ShuffleSplit(n_splits=5, rando...</td>\n",
       "      <td>0.945455</td>\n",
       "    </tr>\n",
       "    <tr>\n",
       "      <th>7</th>\n",
       "      <td>Naiive Bayes on preprocessed+pos-tagged TF-IDF...</td>\n",
       "      <td>GridSearchCV(cv=ShuffleSplit(n_splits=5, rando...</td>\n",
       "      <td>0.816667</td>\n",
       "    </tr>\n",
       "    <tr>\n",
       "      <th>8</th>\n",
       "      <td>MaxEnt on preprocessed+pos-tagged TF-IDF weigh...</td>\n",
       "      <td>GridSearchCV(cv=ShuffleSplit(n_splits=5, rando...</td>\n",
       "      <td>0.943182</td>\n",
       "    </tr>\n",
       "    <tr>\n",
       "      <th>9</th>\n",
       "      <td>SVC on bigram vect.+ TF-IDF</td>\n",
       "      <td>GridSearchCV(cv=ShuffleSplit(n_splits=5, rando...</td>\n",
       "      <td>0.945455</td>\n",
       "    </tr>\n",
       "    <tr>\n",
       "      <th>10</th>\n",
       "      <td>MaxEnt on trigram vect.+ TF-IDF</td>\n",
       "      <td>GridSearchCV(cv=ShuffleSplit(n_splits=5, rando...</td>\n",
       "      <td>0.943182</td>\n",
       "    </tr>\n",
       "  </tbody>\n",
       "</table>\n",
       "</div>"
      ],
      "text/plain": [
       "                                           model_name  ...                              score\n",
       "0                   <class 'sklearn.svm.classes.SVC'>  ...  <class 'sklearn.svm.classes.SVC'>\n",
       "1                      Baseline Model 2: Naiive Bayes  ...                           0.894697\n",
       "2                 Baseline Model 3: MaxEnt Classifier  ...                           0.923485\n",
       "3                              SVC on pos-tagged text  ...                           0.915909\n",
       "4                     Naiive Bayes on pos-tagged text  ...                           0.897727\n",
       "5                MaxEnt Classifier on pos-tagged text  ...                           0.929545\n",
       "6   SVC on preprocessed+pos-tagged TF-IDF weighted...  ...                           0.945455\n",
       "7   Naiive Bayes on preprocessed+pos-tagged TF-IDF...  ...                           0.816667\n",
       "8   MaxEnt on preprocessed+pos-tagged TF-IDF weigh...  ...                           0.943182\n",
       "9                         SVC on bigram vect.+ TF-IDF  ...                           0.945455\n",
       "10                    MaxEnt on trigram vect.+ TF-IDF  ...                           0.943182\n",
       "\n",
       "[11 rows x 3 columns]"
      ]
     },
     "execution_count": 64,
     "metadata": {
      "tags": []
     },
     "output_type": "execute_result"
    }
   ],
   "source": [
    "models"
   ]
  },
  {
   "cell_type": "code",
   "execution_count": null,
   "metadata": {
    "colab": {},
    "colab_type": "code",
    "id": "byyJHtvZ63S8"
   },
   "outputs": [],
   "source": [
    "test = pd.read_csv(\"fake_or_real_news_test.csv\")\n",
    "train = pd.read_csv(\"fake_or_real_news_training_CLEANED.csv\")"
   ]
  },
  {
   "cell_type": "code",
   "execution_count": null,
   "metadata": {
    "colab": {},
    "colab_type": "code",
    "id": "q9hC1Z7z63TC"
   },
   "outputs": [],
   "source": [
    "train['title_and_text'] = train['title'] +' '+ train['text']\n",
    "train['preprocessed_text'] = train['title_and_text'].apply(lambda x: preprocess(x))"
   ]
  },
  {
   "cell_type": "code",
   "execution_count": null,
   "metadata": {
    "colab": {},
    "colab_type": "code",
    "id": "Ir5HGUk863TF"
   },
   "outputs": [],
   "source": [
    "test['title_and_text'] = test['title'] +' '+ test['text']\n",
    "test['preprocessed_text'] = test['title_and_text'].apply(lambda x: preprocess(x))"
   ]
  },
  {
   "cell_type": "code",
   "execution_count": 69,
   "metadata": {
    "colab": {
     "base_uri": "https://localhost:8080/",
     "height": 285
    },
    "colab_type": "code",
    "executionInfo": {
     "elapsed": 1064,
     "status": "ok",
     "timestamp": 1576506680266,
     "user": {
      "displayName": "Chayma Bouzaidi",
      "photoUrl": "",
      "userId": "01302878369314211342"
     },
     "user_tz": -60
    },
    "id": "-YOiyqxU63TI",
    "outputId": "345bf86a-264a-466c-d601-07b1e03c7ac2"
   },
   "outputs": [
    {
     "data": {
      "text/html": [
       "<div>\n",
       "<style scoped>\n",
       "    .dataframe tbody tr th:only-of-type {\n",
       "        vertical-align: middle;\n",
       "    }\n",
       "\n",
       "    .dataframe tbody tr th {\n",
       "        vertical-align: top;\n",
       "    }\n",
       "\n",
       "    .dataframe thead th {\n",
       "        text-align: right;\n",
       "    }\n",
       "</style>\n",
       "<table border=\"1\" class=\"dataframe\">\n",
       "  <thead>\n",
       "    <tr style=\"text-align: right;\">\n",
       "      <th></th>\n",
       "      <th>ID</th>\n",
       "      <th>title</th>\n",
       "      <th>text</th>\n",
       "      <th>title_and_text</th>\n",
       "      <th>preprocessed_text</th>\n",
       "    </tr>\n",
       "  </thead>\n",
       "  <tbody>\n",
       "    <tr>\n",
       "      <th>0</th>\n",
       "      <td>10498</td>\n",
       "      <td>September New Homes Sales Rise——-Back To 1992 ...</td>\n",
       "      <td>September New Homes Sales Rise Back To 1992 Le...</td>\n",
       "      <td>September New Homes Sales Rise——-Back To 1992 ...</td>\n",
       "      <td>september new home sale rise——-back level sept...</td>\n",
       "    </tr>\n",
       "    <tr>\n",
       "      <th>1</th>\n",
       "      <td>2439</td>\n",
       "      <td>Why The Obamacare Doomsday Cult Can't Admit It...</td>\n",
       "      <td>But when Congress debated and passed the Patie...</td>\n",
       "      <td>Why The Obamacare Doomsday Cult Can't Admit It...</td>\n",
       "      <td>obamacare doomsday cult can't admit wrong cong...</td>\n",
       "    </tr>\n",
       "    <tr>\n",
       "      <th>2</th>\n",
       "      <td>864</td>\n",
       "      <td>Sanders, Cruz resist pressure after NY losses,...</td>\n",
       "      <td>The Bernie Sanders and Ted Cruz campaigns vowe...</td>\n",
       "      <td>Sanders, Cruz resist pressure after NY losses,...</td>\n",
       "      <td>sander cruz resist pressure ny loss vow fight ...</td>\n",
       "    </tr>\n",
       "    <tr>\n",
       "      <th>3</th>\n",
       "      <td>4128</td>\n",
       "      <td>Surviving escaped prisoner likely fatigued and...</td>\n",
       "      <td>Police searching for the second of two escaped...</td>\n",
       "      <td>Surviving escaped prisoner likely fatigued and...</td>\n",
       "      <td>survive escape prisoner likely fatigue prone m...</td>\n",
       "    </tr>\n",
       "    <tr>\n",
       "      <th>4</th>\n",
       "      <td>662</td>\n",
       "      <td>Clinton and Sanders neck and neck in Californi...</td>\n",
       "      <td>No matter who wins California's 475 delegates ...</td>\n",
       "      <td>Clinton and Sanders neck and neck in Californi...</td>\n",
       "      <td>clinton sander neck neck california primary ma...</td>\n",
       "    </tr>\n",
       "  </tbody>\n",
       "</table>\n",
       "</div>"
      ],
      "text/plain": [
       "      ID  ...                                  preprocessed_text\n",
       "0  10498  ...  september new home sale rise——-back level sept...\n",
       "1   2439  ...  obamacare doomsday cult can't admit wrong cong...\n",
       "2    864  ...  sander cruz resist pressure ny loss vow fight ...\n",
       "3   4128  ...  survive escape prisoner likely fatigue prone m...\n",
       "4    662  ...  clinton sander neck neck california primary ma...\n",
       "\n",
       "[5 rows x 5 columns]"
      ]
     },
     "execution_count": 69,
     "metadata": {
      "tags": []
     },
     "output_type": "execute_result"
    }
   ],
   "source": [
    "test.head()"
   ]
  },
  {
   "cell_type": "code",
   "execution_count": null,
   "metadata": {
    "colab": {},
    "colab_type": "code",
    "id": "MKhQB_3H63TM"
   },
   "outputs": [],
   "source": [
    "## Save preprocessed df\n",
    "train.to_csv(\"fake_or_real_news_train_PREPROCESSED.csv\", index=False)"
   ]
  },
  {
   "cell_type": "code",
   "execution_count": null,
   "metadata": {
    "colab": {},
    "colab_type": "code",
    "id": "1KvpaDjF63TS"
   },
   "outputs": [],
   "source": [
    "# Save preprocessed df\n",
    "test.to_csv(\"fake_or_real_news_test_PREPROCESSED.csv\", index=False)"
   ]
  },
  {
   "cell_type": "code",
   "execution_count": null,
   "metadata": {
    "colab": {},
    "colab_type": "code",
    "id": "Hk2fpLzk63TY"
   },
   "outputs": [],
   "source": [
    "train = pd.read_csv(\"fake_or_real_news_train_PREPROCESSED.csv\")\n",
    "train = train.astype(object).replace(np.nan, 'None')\n",
    "\n",
    "test = pd.read_csv(\"fake_or_real_news_test_PREPROCESSED.csv\")\n",
    "test = test.astype(object).replace(np.nan, 'None')"
   ]
  },
  {
   "cell_type": "code",
   "execution_count": null,
   "metadata": {
    "colab": {},
    "colab_type": "code",
    "id": "BErb9lNk63Te"
   },
   "outputs": [],
   "source": [
    "test = test.astype(object).replace(np.nan, 'None')"
   ]
  },
  {
   "cell_type": "code",
   "execution_count": 75,
   "metadata": {
    "colab": {
     "base_uri": "https://localhost:8080/",
     "height": 285
    },
    "colab_type": "code",
    "executionInfo": {
     "elapsed": 1286,
     "status": "ok",
     "timestamp": 1576506733103,
     "user": {
      "displayName": "Chayma Bouzaidi",
      "photoUrl": "",
      "userId": "01302878369314211342"
     },
     "user_tz": -60
    },
    "id": "s6YqU_qB63Tl",
    "outputId": "f5e45ea8-16f3-439c-a2ea-fe59375b1357"
   },
   "outputs": [
    {
     "data": {
      "text/html": [
       "<div>\n",
       "<style scoped>\n",
       "    .dataframe tbody tr th:only-of-type {\n",
       "        vertical-align: middle;\n",
       "    }\n",
       "\n",
       "    .dataframe tbody tr th {\n",
       "        vertical-align: top;\n",
       "    }\n",
       "\n",
       "    .dataframe thead th {\n",
       "        text-align: right;\n",
       "    }\n",
       "</style>\n",
       "<table border=\"1\" class=\"dataframe\">\n",
       "  <thead>\n",
       "    <tr style=\"text-align: right;\">\n",
       "      <th></th>\n",
       "      <th>ID</th>\n",
       "      <th>title</th>\n",
       "      <th>text</th>\n",
       "      <th>title_and_text</th>\n",
       "      <th>preprocessed_text</th>\n",
       "    </tr>\n",
       "  </thead>\n",
       "  <tbody>\n",
       "    <tr>\n",
       "      <th>0</th>\n",
       "      <td>10498</td>\n",
       "      <td>September New Homes Sales Rise——-Back To 1992 ...</td>\n",
       "      <td>September New Homes Sales Rise Back To 1992 Le...</td>\n",
       "      <td>September New Homes Sales Rise——-Back To 1992 ...</td>\n",
       "      <td>september new home sale rise——-back level sept...</td>\n",
       "    </tr>\n",
       "    <tr>\n",
       "      <th>1</th>\n",
       "      <td>2439</td>\n",
       "      <td>Why The Obamacare Doomsday Cult Can't Admit It...</td>\n",
       "      <td>But when Congress debated and passed the Patie...</td>\n",
       "      <td>Why The Obamacare Doomsday Cult Can't Admit It...</td>\n",
       "      <td>obamacare doomsday cult can't admit wrong cong...</td>\n",
       "    </tr>\n",
       "    <tr>\n",
       "      <th>2</th>\n",
       "      <td>864</td>\n",
       "      <td>Sanders, Cruz resist pressure after NY losses,...</td>\n",
       "      <td>The Bernie Sanders and Ted Cruz campaigns vowe...</td>\n",
       "      <td>Sanders, Cruz resist pressure after NY losses,...</td>\n",
       "      <td>sander cruz resist pressure ny loss vow fight ...</td>\n",
       "    </tr>\n",
       "    <tr>\n",
       "      <th>3</th>\n",
       "      <td>4128</td>\n",
       "      <td>Surviving escaped prisoner likely fatigued and...</td>\n",
       "      <td>Police searching for the second of two escaped...</td>\n",
       "      <td>Surviving escaped prisoner likely fatigued and...</td>\n",
       "      <td>survive escape prisoner likely fatigue prone m...</td>\n",
       "    </tr>\n",
       "    <tr>\n",
       "      <th>4</th>\n",
       "      <td>662</td>\n",
       "      <td>Clinton and Sanders neck and neck in Californi...</td>\n",
       "      <td>No matter who wins California's 475 delegates ...</td>\n",
       "      <td>Clinton and Sanders neck and neck in Californi...</td>\n",
       "      <td>clinton sander neck neck california primary ma...</td>\n",
       "    </tr>\n",
       "  </tbody>\n",
       "</table>\n",
       "</div>"
      ],
      "text/plain": [
       "      ID  ...                                  preprocessed_text\n",
       "0  10498  ...  september new home sale rise——-back level sept...\n",
       "1   2439  ...  obamacare doomsday cult can't admit wrong cong...\n",
       "2    864  ...  sander cruz resist pressure ny loss vow fight ...\n",
       "3   4128  ...  survive escape prisoner likely fatigue prone m...\n",
       "4    662  ...  clinton sander neck neck california primary ma...\n",
       "\n",
       "[5 rows x 5 columns]"
      ]
     },
     "execution_count": 75,
     "metadata": {
      "tags": []
     },
     "output_type": "execute_result"
    }
   ],
   "source": [
    "test.head()"
   ]
  },
  {
   "cell_type": "code",
   "execution_count": 76,
   "metadata": {
    "colab": {
     "base_uri": "https://localhost:8080/",
     "height": 285
    },
    "colab_type": "code",
    "executionInfo": {
     "elapsed": 1284,
     "status": "ok",
     "timestamp": 1576506736186,
     "user": {
      "displayName": "Chayma Bouzaidi",
      "photoUrl": "",
      "userId": "01302878369314211342"
     },
     "user_tz": -60
    },
    "id": "iZoRA6jB63Tr",
    "outputId": "c2e6664f-9d90-4042-d26e-ab1c4817794a"
   },
   "outputs": [
    {
     "data": {
      "text/html": [
       "<div>\n",
       "<style scoped>\n",
       "    .dataframe tbody tr th:only-of-type {\n",
       "        vertical-align: middle;\n",
       "    }\n",
       "\n",
       "    .dataframe tbody tr th {\n",
       "        vertical-align: top;\n",
       "    }\n",
       "\n",
       "    .dataframe thead th {\n",
       "        text-align: right;\n",
       "    }\n",
       "</style>\n",
       "<table border=\"1\" class=\"dataframe\">\n",
       "  <thead>\n",
       "    <tr style=\"text-align: right;\">\n",
       "      <th></th>\n",
       "      <th>ID</th>\n",
       "      <th>title</th>\n",
       "      <th>text</th>\n",
       "      <th>label</th>\n",
       "      <th>X1</th>\n",
       "      <th>X2</th>\n",
       "      <th>title_and_text</th>\n",
       "      <th>preprocessed_text</th>\n",
       "    </tr>\n",
       "  </thead>\n",
       "  <tbody>\n",
       "    <tr>\n",
       "      <th>0</th>\n",
       "      <td>8476</td>\n",
       "      <td>You Can Smell Hillary’s Fear</td>\n",
       "      <td>Daniel Greenfield | a Shillman Journalism Fell...</td>\n",
       "      <td>FAKE</td>\n",
       "      <td>None</td>\n",
       "      <td>None</td>\n",
       "      <td>You Can Smell Hillary’s Fear Daniel Greenfield...</td>\n",
       "      <td>smell hillary’s fear daniel greenfield shillma...</td>\n",
       "    </tr>\n",
       "    <tr>\n",
       "      <th>1</th>\n",
       "      <td>10294</td>\n",
       "      <td>Watch The Exact Moment Paul Ryan Committed Pol...</td>\n",
       "      <td>Google Pinterest Digg Linkedin Reddit Stumbleu...</td>\n",
       "      <td>FAKE</td>\n",
       "      <td>None</td>\n",
       "      <td>None</td>\n",
       "      <td>Watch The Exact Moment Paul Ryan Committed Pol...</td>\n",
       "      <td>watch exact moment paul ryan commit political ...</td>\n",
       "    </tr>\n",
       "    <tr>\n",
       "      <th>2</th>\n",
       "      <td>3608</td>\n",
       "      <td>Kerry to go to Paris in gesture of sympathy</td>\n",
       "      <td>U.S. Secretary of State John F. Kerry said Mon...</td>\n",
       "      <td>REAL</td>\n",
       "      <td>None</td>\n",
       "      <td>None</td>\n",
       "      <td>Kerry to go to Paris in gesture of sympathy U....</td>\n",
       "      <td>kerry go paris gesture sympathy u.s secretary ...</td>\n",
       "    </tr>\n",
       "    <tr>\n",
       "      <th>3</th>\n",
       "      <td>10142</td>\n",
       "      <td>Bernie supporters on Twitter erupt in anger ag...</td>\n",
       "      <td>— Kaydee King (@KaydeeKing) November 9 | 2016 ...</td>\n",
       "      <td>FAKE</td>\n",
       "      <td>None</td>\n",
       "      <td>None</td>\n",
       "      <td>Bernie supporters on Twitter erupt in anger ag...</td>\n",
       "      <td>bernie supporter twitter erupt anger dnc try w...</td>\n",
       "    </tr>\n",
       "    <tr>\n",
       "      <th>4</th>\n",
       "      <td>875</td>\n",
       "      <td>The Battle of New York: Why This Primary Matte...</td>\n",
       "      <td>Cruz promised his supporters. \"\"We're beating...</td>\n",
       "      <td>REAL</td>\n",
       "      <td>None</td>\n",
       "      <td>None</td>\n",
       "      <td>The Battle of New York: Why This Primary Matte...</td>\n",
       "      <td>battle new york primary matter primary day new...</td>\n",
       "    </tr>\n",
       "  </tbody>\n",
       "</table>\n",
       "</div>"
      ],
      "text/plain": [
       "      ID  ...                                  preprocessed_text\n",
       "0   8476  ...  smell hillary’s fear daniel greenfield shillma...\n",
       "1  10294  ...  watch exact moment paul ryan commit political ...\n",
       "2   3608  ...  kerry go paris gesture sympathy u.s secretary ...\n",
       "3  10142  ...  bernie supporter twitter erupt anger dnc try w...\n",
       "4    875  ...  battle new york primary matter primary day new...\n",
       "\n",
       "[5 rows x 8 columns]"
      ]
     },
     "execution_count": 76,
     "metadata": {
      "tags": []
     },
     "output_type": "execute_result"
    }
   ],
   "source": [
    "train.head()"
   ]
  },
  {
   "cell_type": "code",
   "execution_count": null,
   "metadata": {
    "colab": {},
    "colab_type": "code",
    "id": "PgTTwtXH63Ty"
   },
   "outputs": [],
   "source": [
    "train['pos_tagged_text'] = train['preprocessed_text'].apply(lambda x: pos_tag_words(x))\n",
    "test['pos_tagged_text'] = test['preprocessed_text'].apply(lambda x: pos_tag_words(x))"
   ]
  },
  {
   "cell_type": "code",
   "execution_count": null,
   "metadata": {
    "colab": {},
    "colab_type": "code",
    "id": "maAL7t6S63T1"
   },
   "outputs": [],
   "source": [
    "train[\"clean_and_pos_tagged_text\"] = train['preprocessed_text'] + ' ' + train['pos_tagged_text']\n",
    "test[\"clean_and_pos_tagged_text\"] = test['preprocessed_text'] + ' ' + train['pos_tagged_text']"
   ]
  },
  {
   "cell_type": "code",
   "execution_count": 79,
   "metadata": {
    "colab": {
     "base_uri": "https://localhost:8080/",
     "height": 95
    },
    "colab_type": "code",
    "executionInfo": {
     "elapsed": 2423,
     "status": "ok",
     "timestamp": 1576506994834,
     "user": {
      "displayName": "Chayma Bouzaidi",
      "photoUrl": "",
      "userId": "01302878369314211342"
     },
     "user_tz": -60
    },
    "id": "GfO73CdB63T3",
    "outputId": "c290c426-e6d0-4775-e022-ef4950852bfd"
   },
   "outputs": [
    {
     "data": {
      "text/html": [
       "<div>\n",
       "<style scoped>\n",
       "    .dataframe tbody tr th:only-of-type {\n",
       "        vertical-align: middle;\n",
       "    }\n",
       "\n",
       "    .dataframe tbody tr th {\n",
       "        vertical-align: top;\n",
       "    }\n",
       "\n",
       "    .dataframe thead th {\n",
       "        text-align: right;\n",
       "    }\n",
       "</style>\n",
       "<table border=\"1\" class=\"dataframe\">\n",
       "  <thead>\n",
       "    <tr style=\"text-align: right;\">\n",
       "      <th></th>\n",
       "      <th>ID</th>\n",
       "      <th>title</th>\n",
       "      <th>text</th>\n",
       "      <th>label</th>\n",
       "      <th>X1</th>\n",
       "      <th>X2</th>\n",
       "      <th>title_and_text</th>\n",
       "      <th>preprocessed_text</th>\n",
       "      <th>pos_tagged_text</th>\n",
       "      <th>clean_and_pos_tagged_text</th>\n",
       "    </tr>\n",
       "  </thead>\n",
       "  <tbody>\n",
       "    <tr>\n",
       "      <th>0</th>\n",
       "      <td>8476</td>\n",
       "      <td>You Can Smell Hillary’s Fear</td>\n",
       "      <td>Daniel Greenfield | a Shillman Journalism Fell...</td>\n",
       "      <td>FAKE</td>\n",
       "      <td>None</td>\n",
       "      <td>None</td>\n",
       "      <td>You Can Smell Hillary’s Fear Daniel Greenfield...</td>\n",
       "      <td>smell hillary’s fear daniel greenfield shillma...</td>\n",
       "      <td>NN-smell JJ-hillary NNP-’ NN-s NN-fear JJ-dani...</td>\n",
       "      <td>smell hillary’s fear daniel greenfield shillma...</td>\n",
       "    </tr>\n",
       "  </tbody>\n",
       "</table>\n",
       "</div>"
      ],
      "text/plain": [
       "     ID  ...                          clean_and_pos_tagged_text\n",
       "0  8476  ...  smell hillary’s fear daniel greenfield shillma...\n",
       "\n",
       "[1 rows x 10 columns]"
      ]
     },
     "execution_count": 79,
     "metadata": {
      "tags": []
     },
     "output_type": "execute_result"
    }
   ],
   "source": [
    "train.head(1)"
   ]
  },
  {
   "cell_type": "code",
   "execution_count": 80,
   "metadata": {
    "colab": {
     "base_uri": "https://localhost:8080/",
     "height": 113
    },
    "colab_type": "code",
    "executionInfo": {
     "elapsed": 2126,
     "status": "ok",
     "timestamp": 1576506995440,
     "user": {
      "displayName": "Chayma Bouzaidi",
      "photoUrl": "",
      "userId": "01302878369314211342"
     },
     "user_tz": -60
    },
    "id": "iQyXP-wy63T7",
    "outputId": "ea1acf42-d659-4e4b-d7bb-f83df9b197c0"
   },
   "outputs": [
    {
     "data": {
      "text/html": [
       "<div>\n",
       "<style scoped>\n",
       "    .dataframe tbody tr th:only-of-type {\n",
       "        vertical-align: middle;\n",
       "    }\n",
       "\n",
       "    .dataframe tbody tr th {\n",
       "        vertical-align: top;\n",
       "    }\n",
       "\n",
       "    .dataframe thead th {\n",
       "        text-align: right;\n",
       "    }\n",
       "</style>\n",
       "<table border=\"1\" class=\"dataframe\">\n",
       "  <thead>\n",
       "    <tr style=\"text-align: right;\">\n",
       "      <th></th>\n",
       "      <th>ID</th>\n",
       "      <th>title</th>\n",
       "      <th>text</th>\n",
       "      <th>title_and_text</th>\n",
       "      <th>preprocessed_text</th>\n",
       "      <th>pos_tagged_text</th>\n",
       "      <th>clean_and_pos_tagged_text</th>\n",
       "    </tr>\n",
       "  </thead>\n",
       "  <tbody>\n",
       "    <tr>\n",
       "      <th>0</th>\n",
       "      <td>10498</td>\n",
       "      <td>September New Homes Sales Rise——-Back To 1992 ...</td>\n",
       "      <td>September New Homes Sales Rise Back To 1992 Le...</td>\n",
       "      <td>September New Homes Sales Rise——-Back To 1992 ...</td>\n",
       "      <td>september new home sale rise——-back level sept...</td>\n",
       "      <td>VB-september JJ-new NN-home NN-sale JJ-rise——-...</td>\n",
       "      <td>september new home sale rise——-back level sept...</td>\n",
       "    </tr>\n",
       "  </tbody>\n",
       "</table>\n",
       "</div>"
      ],
      "text/plain": [
       "      ID  ...                          clean_and_pos_tagged_text\n",
       "0  10498  ...  september new home sale rise——-back level sept...\n",
       "\n",
       "[1 rows x 7 columns]"
      ]
     },
     "execution_count": 80,
     "metadata": {
      "tags": []
     },
     "output_type": "execute_result"
    }
   ],
   "source": [
    "test.head(1)"
   ]
  },
  {
   "cell_type": "code",
   "execution_count": null,
   "metadata": {
    "colab": {},
    "colab_type": "code",
    "id": "8BsV2jJh63T-"
   },
   "outputs": [],
   "source": [
    "from sklearn.pipeline import Pipeline\n",
    "trigram_vectorizer = CountVectorizer(analyzer = \"word\", ngram_range=(1,3))\n",
    "tf_idf = TfidfTransformer(norm=\"l2\")\n",
    "classifier = LogisticRegression(C=1000, class_weight=None, dual=False, fit_intercept=True,\n",
    "          intercept_scaling=1, max_iter=100, multi_class='auto',\n",
    "          n_jobs=None, penalty='l2', random_state=None, solver='liblinear',\n",
    "          tol=0.0001, verbose=0, warm_start=False)\n",
    "\n",
    "pipeline = Pipeline([\n",
    "     ('trigram_vectorizer', trigram_vectorizer),\n",
    "     ('tfidf', tf_idf),\n",
    "     ('clf', classifier),\n",
    " ])"
   ]
  },
  {
   "cell_type": "code",
   "execution_count": 82,
   "metadata": {
    "colab": {
     "base_uri": "https://localhost:8080/",
     "height": 435
    },
    "colab_type": "code",
    "executionInfo": {
     "elapsed": 52364,
     "status": "ok",
     "timestamp": 1576507054122,
     "user": {
      "displayName": "Chayma Bouzaidi",
      "photoUrl": "",
      "userId": "01302878369314211342"
     },
     "user_tz": -60
    },
    "id": "M1XgM27263UC",
    "outputId": "2f573a68-56bd-4f86-9f85-e46f4109d102"
   },
   "outputs": [
    {
     "data": {
      "text/plain": [
       "Pipeline(memory=None,\n",
       "         steps=[('trigram_vectorizer',\n",
       "                 CountVectorizer(analyzer='word', binary=False,\n",
       "                                 decode_error='strict',\n",
       "                                 dtype=<class 'numpy.int64'>, encoding='utf-8',\n",
       "                                 input='content', lowercase=True, max_df=1.0,\n",
       "                                 max_features=None, min_df=1,\n",
       "                                 ngram_range=(1, 3), preprocessor=None,\n",
       "                                 stop_words=None, strip_accents=None,\n",
       "                                 token_pattern='(?u)\\\\b\\\\w\\\\w+\\\\b',\n",
       "                                 tokenizer=None,...\n",
       "                ('tfidf',\n",
       "                 TfidfTransformer(norm='l2', smooth_idf=True,\n",
       "                                  sublinear_tf=False, use_idf=True)),\n",
       "                ('clf',\n",
       "                 LogisticRegression(C=1000, class_weight=None, dual=False,\n",
       "                                    fit_intercept=True, intercept_scaling=1,\n",
       "                                    l1_ratio=None, max_iter=100,\n",
       "                                    multi_class='auto', n_jobs=None,\n",
       "                                    penalty='l2', random_state=None,\n",
       "                                    solver='liblinear', tol=0.0001, verbose=0,\n",
       "                                    warm_start=False))],\n",
       "         verbose=False)"
      ]
     },
     "execution_count": 82,
     "metadata": {
      "tags": []
     },
     "output_type": "execute_result"
    }
   ],
   "source": [
    "pipeline.fit(train.clean_and_pos_tagged_text, encoder.fit_transform(train.label.values))"
   ]
  },
  {
   "cell_type": "code",
   "execution_count": null,
   "metadata": {
    "colab": {},
    "colab_type": "code",
    "id": "i4kwbeUY63UI"
   },
   "outputs": [],
   "source": [
    "import pickle\n",
    "pickle.dump( pipeline, open( \"model.pkl\", \"wb\" ) )"
   ]
  },
  {
   "cell_type": "code",
   "execution_count": 87,
   "metadata": {
    "colab": {
     "base_uri": "https://localhost:8080/",
     "height": 35
    },
    "colab_type": "code",
    "executionInfo": {
     "elapsed": 9656,
     "status": "ok",
     "timestamp": 1576507164102,
     "user": {
      "displayName": "Chayma Bouzaidi",
      "photoUrl": "",
      "userId": "01302878369314211342"
     },
     "user_tz": -60
    },
    "id": "O3aB1dCY63UL",
    "outputId": "fa0ead3a-9c8b-4333-9e0f-8aa6e2fd68bc"
   },
   "outputs": [
    {
     "name": "stdout",
     "output_type": "stream",
     "text": [
      "\u001b[34mPredicting on test\u001b[0m\n"
     ]
    }
   ],
   "source": [
    "print(colored(\"Predicting on test\", 'blue'))\n",
    "test_predictions = test_predictions = pipeline.predict(test.clean_and_pos_tagged_text)"
   ]
  },
  {
   "cell_type": "code",
   "execution_count": 88,
   "metadata": {
    "colab": {
     "base_uri": "https://localhost:8080/",
     "height": 35
    },
    "colab_type": "code",
    "executionInfo": {
     "elapsed": 1365,
     "status": "ok",
     "timestamp": 1576507186665,
     "user": {
      "displayName": "Chayma Bouzaidi",
      "photoUrl": "",
      "userId": "01302878369314211342"
     },
     "user_tz": -60
    },
    "id": "b3KxZz4e63UO",
    "outputId": "6fd73451-f216-42cd-d1be-dbf17be8951f"
   },
   "outputs": [
    {
     "data": {
      "text/plain": [
       "array([0, 0, 1, ..., 1, 1, 1])"
      ]
     },
     "execution_count": 88,
     "metadata": {
      "tags": []
     },
     "output_type": "execute_result"
    }
   ],
   "source": [
    "test_predictions"
   ]
  },
  {
   "cell_type": "code",
   "execution_count": null,
   "metadata": {
    "colab": {},
    "colab_type": "code",
    "id": "DuaWiE5u63UQ"
   },
   "outputs": [],
   "source": [
    "test_predictions_decoded = encoder.inverse_transform( test_predictions )"
   ]
  },
  {
   "cell_type": "code",
   "execution_count": null,
   "metadata": {
    "colab": {},
    "colab_type": "code",
    "id": "lwL-UX0163UZ"
   },
   "outputs": [],
   "source": [
    "predictions = test\n",
    "predictions[\"label\"] = test_predictions_decoded"
   ]
  },
  {
   "cell_type": "code",
   "execution_count": 91,
   "metadata": {
    "colab": {
     "base_uri": "https://localhost:8080/",
     "height": 35
    },
    "colab_type": "code",
    "executionInfo": {
     "elapsed": 1202,
     "status": "ok",
     "timestamp": 1576507193682,
     "user": {
      "displayName": "Chayma Bouzaidi",
      "photoUrl": "",
      "userId": "01302878369314211342"
     },
     "user_tz": -60
    },
    "id": "66k5et4w63Ub",
    "outputId": "b27d4abe-75ed-4197-c33a-7c07cb007f4f"
   },
   "outputs": [
    {
     "data": {
      "text/plain": [
       "(2321, 8)"
      ]
     },
     "execution_count": 91,
     "metadata": {
      "tags": []
     },
     "output_type": "execute_result"
    }
   ],
   "source": [
    "predictions.shape"
   ]
  },
  {
   "cell_type": "code",
   "execution_count": 92,
   "metadata": {
    "colab": {
     "base_uri": "https://localhost:8080/",
     "height": 371
    },
    "colab_type": "code",
    "executionInfo": {
     "elapsed": 1321,
     "status": "ok",
     "timestamp": 1576507196015,
     "user": {
      "displayName": "Chayma Bouzaidi",
      "photoUrl": "",
      "userId": "01302878369314211342"
     },
     "user_tz": -60
    },
    "id": "iZCiWQQ863Ud",
    "outputId": "319a65f5-90a9-4231-af4b-2205bb7a80a4"
   },
   "outputs": [
    {
     "data": {
      "text/html": [
       "<div>\n",
       "<style scoped>\n",
       "    .dataframe tbody tr th:only-of-type {\n",
       "        vertical-align: middle;\n",
       "    }\n",
       "\n",
       "    .dataframe tbody tr th {\n",
       "        vertical-align: top;\n",
       "    }\n",
       "\n",
       "    .dataframe thead th {\n",
       "        text-align: right;\n",
       "    }\n",
       "</style>\n",
       "<table border=\"1\" class=\"dataframe\">\n",
       "  <thead>\n",
       "    <tr style=\"text-align: right;\">\n",
       "      <th></th>\n",
       "      <th>ID</th>\n",
       "      <th>title</th>\n",
       "      <th>text</th>\n",
       "      <th>title_and_text</th>\n",
       "      <th>preprocessed_text</th>\n",
       "      <th>pos_tagged_text</th>\n",
       "      <th>clean_and_pos_tagged_text</th>\n",
       "      <th>label</th>\n",
       "    </tr>\n",
       "  </thead>\n",
       "  <tbody>\n",
       "    <tr>\n",
       "      <th>0</th>\n",
       "      <td>10498</td>\n",
       "      <td>September New Homes Sales Rise——-Back To 1992 ...</td>\n",
       "      <td>September New Homes Sales Rise Back To 1992 Le...</td>\n",
       "      <td>September New Homes Sales Rise——-Back To 1992 ...</td>\n",
       "      <td>september new home sale rise——-back level sept...</td>\n",
       "      <td>VB-september JJ-new NN-home NN-sale JJ-rise——-...</td>\n",
       "      <td>september new home sale rise——-back level sept...</td>\n",
       "      <td>FAKE</td>\n",
       "    </tr>\n",
       "    <tr>\n",
       "      <th>1</th>\n",
       "      <td>2439</td>\n",
       "      <td>Why The Obamacare Doomsday Cult Can't Admit It...</td>\n",
       "      <td>But when Congress debated and passed the Patie...</td>\n",
       "      <td>Why The Obamacare Doomsday Cult Can't Admit It...</td>\n",
       "      <td>obamacare doomsday cult can't admit wrong cong...</td>\n",
       "      <td>NN-obamacare NN-doomsday NN-cult MD-ca RB-n't ...</td>\n",
       "      <td>obamacare doomsday cult can't admit wrong cong...</td>\n",
       "      <td>FAKE</td>\n",
       "    </tr>\n",
       "    <tr>\n",
       "      <th>2</th>\n",
       "      <td>864</td>\n",
       "      <td>Sanders, Cruz resist pressure after NY losses,...</td>\n",
       "      <td>The Bernie Sanders and Ted Cruz campaigns vowe...</td>\n",
       "      <td>Sanders, Cruz resist pressure after NY losses,...</td>\n",
       "      <td>sander cruz resist pressure ny loss vow fight ...</td>\n",
       "      <td>NN-sander NNS-cruz VBP-resist NN-pressure JJ-n...</td>\n",
       "      <td>sander cruz resist pressure ny loss vow fight ...</td>\n",
       "      <td>REAL</td>\n",
       "    </tr>\n",
       "    <tr>\n",
       "      <th>3</th>\n",
       "      <td>4128</td>\n",
       "      <td>Surviving escaped prisoner likely fatigued and...</td>\n",
       "      <td>Police searching for the second of two escaped...</td>\n",
       "      <td>Surviving escaped prisoner likely fatigued and...</td>\n",
       "      <td>survive escape prisoner likely fatigue prone m...</td>\n",
       "      <td>JJ-survive NN-escape NN-prisoner JJ-likely NN-...</td>\n",
       "      <td>survive escape prisoner likely fatigue prone m...</td>\n",
       "      <td>REAL</td>\n",
       "    </tr>\n",
       "    <tr>\n",
       "      <th>4</th>\n",
       "      <td>662</td>\n",
       "      <td>Clinton and Sanders neck and neck in Californi...</td>\n",
       "      <td>No matter who wins California's 475 delegates ...</td>\n",
       "      <td>Clinton and Sanders neck and neck in Californi...</td>\n",
       "      <td>clinton sander neck neck california primary ma...</td>\n",
       "      <td>NN-clinton NN-sander NN-neck NN-neck NN-califo...</td>\n",
       "      <td>clinton sander neck neck california primary ma...</td>\n",
       "      <td>REAL</td>\n",
       "    </tr>\n",
       "  </tbody>\n",
       "</table>\n",
       "</div>"
      ],
      "text/plain": [
       "      ID  ... label\n",
       "0  10498  ...  FAKE\n",
       "1   2439  ...  FAKE\n",
       "2    864  ...  REAL\n",
       "3   4128  ...  REAL\n",
       "4    662  ...  REAL\n",
       "\n",
       "[5 rows x 8 columns]"
      ]
     },
     "execution_count": 92,
     "metadata": {
      "tags": []
     },
     "output_type": "execute_result"
    }
   ],
   "source": [
    "predictions.head()"
   ]
  },
  {
   "cell_type": "code",
   "execution_count": 93,
   "metadata": {
    "colab": {
     "base_uri": "https://localhost:8080/",
     "height": 108
    },
    "colab_type": "code",
    "executionInfo": {
     "elapsed": 1104,
     "status": "ok",
     "timestamp": 1576507199875,
     "user": {
      "displayName": "Chayma Bouzaidi",
      "photoUrl": "",
      "userId": "01302878369314211342"
     },
     "user_tz": -60
    },
    "id": "jWCXgNAs63Uf",
    "outputId": "acd901ac-30b8-436e-a060-9b14d131abf8"
   },
   "outputs": [
    {
     "data": {
      "text/plain": [
       "count     2321\n",
       "unique       2\n",
       "top       REAL\n",
       "freq      1320\n",
       "Name: label, dtype: object"
      ]
     },
     "execution_count": 93,
     "metadata": {
      "tags": []
     },
     "output_type": "execute_result"
    }
   ],
   "source": [
    "predictions.label.describe()"
   ]
  },
  {
   "cell_type": "code",
   "execution_count": 94,
   "metadata": {
    "colab": {
     "base_uri": "https://localhost:8080/",
     "height": 295
    },
    "colab_type": "code",
    "executionInfo": {
     "elapsed": 989,
     "status": "ok",
     "timestamp": 1576507204887,
     "user": {
      "displayName": "Chayma Bouzaidi",
      "photoUrl": "",
      "userId": "01302878369314211342"
     },
     "user_tz": -60
    },
    "id": "AHF5N6i663Ug",
    "outputId": "572f7c5e-8abd-4342-9544-fc9650e56e7b"
   },
   "outputs": [
    {
     "data": {
      "image/png": "[encoded data removed]",
      "text/plain": [
       "<Figure size 432x288 with 1 Axes>"
      ]
     },
     "metadata": {
      "tags": []
     },
     "output_type": "display_data"
    }
   ],
   "source": [
    "import collections\n",
    "ax = sns.countplot(predictions.label,\n",
    "                order=[x for x, count in sorted(collections.Counter(predictions.label).items(),\n",
    "                key=lambda x: -x[1])])\n",
    "\n",
    "\n",
    "for p in ax.patches:\n",
    "    height = p.get_height()\n",
    "    ax.text(p.get_x()+p.get_width()/2.,\n",
    "            height + 3,\n",
    "            '{:1.2f}%'.format(height/len(predictions)*100),\n",
    "            ha=\"center\") \n",
    "ax.set_title(\"Test dataset target\")\n",
    "show()"
   ]
  },
  {
   "cell_type": "code",
   "execution_count": 95,
   "metadata": {
    "colab": {
     "base_uri": "https://localhost:8080/",
     "height": 198
    },
    "colab_type": "code",
    "executionInfo": {
     "elapsed": 531,
     "status": "ok",
     "timestamp": 1576507206447,
     "user": {
      "displayName": "Chayma Bouzaidi",
      "photoUrl": "",
      "userId": "01302878369314211342"
     },
     "user_tz": -60
    },
    "id": "HtXW19Fh63Uk",
    "outputId": "def2968a-affe-48eb-e040-e987ab56358f"
   },
   "outputs": [
    {
     "data": {
      "text/html": [
       "<div>\n",
       "<style scoped>\n",
       "    .dataframe tbody tr th:only-of-type {\n",
       "        vertical-align: middle;\n",
       "    }\n",
       "\n",
       "    .dataframe tbody tr th {\n",
       "        vertical-align: top;\n",
       "    }\n",
       "\n",
       "    .dataframe thead th {\n",
       "        text-align: right;\n",
       "    }\n",
       "</style>\n",
       "<table border=\"1\" class=\"dataframe\">\n",
       "  <thead>\n",
       "    <tr style=\"text-align: right;\">\n",
       "      <th></th>\n",
       "      <th>ID</th>\n",
       "      <th>label</th>\n",
       "    </tr>\n",
       "  </thead>\n",
       "  <tbody>\n",
       "    <tr>\n",
       "      <th>0</th>\n",
       "      <td>10498</td>\n",
       "      <td>FAKE</td>\n",
       "    </tr>\n",
       "    <tr>\n",
       "      <th>1</th>\n",
       "      <td>2439</td>\n",
       "      <td>FAKE</td>\n",
       "    </tr>\n",
       "    <tr>\n",
       "      <th>2</th>\n",
       "      <td>864</td>\n",
       "      <td>REAL</td>\n",
       "    </tr>\n",
       "    <tr>\n",
       "      <th>3</th>\n",
       "      <td>4128</td>\n",
       "      <td>REAL</td>\n",
       "    </tr>\n",
       "    <tr>\n",
       "      <th>4</th>\n",
       "      <td>662</td>\n",
       "      <td>REAL</td>\n",
       "    </tr>\n",
       "  </tbody>\n",
       "</table>\n",
       "</div>"
      ],
      "text/plain": [
       "      ID label\n",
       "0  10498  FAKE\n",
       "1   2439  FAKE\n",
       "2    864  REAL\n",
       "3   4128  REAL\n",
       "4    662  REAL"
      ]
     },
     "execution_count": 95,
     "metadata": {
      "tags": []
     },
     "output_type": "execute_result"
    }
   ],
   "source": [
    "predictions.drop(columns=[\"title\",\"text\",\"title_and_text\",\"preprocessed_text\",\"pos_tagged_text\",\"clean_and_pos_tagged_text\"]).head()"
   ]
  },
  {
   "cell_type": "code",
   "execution_count": null,
   "metadata": {
    "colab": {},
    "colab_type": "code",
    "id": "AOig6dxO63Uq"
   },
   "outputs": [],
   "source": [
    "predictions.to_csv(\"TEST_PREDICTIONS.csv\", index=False)"
   ]
  },
  {
   "cell_type": "code",
   "execution_count": null,
   "metadata": {
    "colab": {},
    "colab_type": "code",
    "id": "pgk-_k7jJvFO"
   },
   "outputs": [],
   "source": []
  }
 ],
 "metadata": {
  "accelerator": "GPU",
  "colab": {
   "name": "ClassifyData.ipynb",
   "provenance": []
  },
  "kernelspec": {
   "display_name": "Python 3",
   "language": "python",
   "name": "python3"
  },
  "language_info": {
   "codemirror_mode": {
    "name": "ipython",
    "version": 3
   },
   "file_extension": ".py",
   "mimetype": "text/x-python",
   "name": "python",
   "nbconvert_exporter": "python",
   "pygments_lexer": "ipython3",
   "version": "3.7.3"
  }
 },
 "nbformat": 4,
 "nbformat_minor": 2
}
